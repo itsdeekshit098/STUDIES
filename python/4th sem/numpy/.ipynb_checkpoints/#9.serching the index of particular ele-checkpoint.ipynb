{
 "cells": [
  {
   "cell_type": "markdown",
   "id": "3b34628a",
   "metadata": {},
   "source": [
    "# searching for a particular value  in the elements of the array"
   ]
  },
  {
   "cell_type": "raw",
   "id": "6ca5d812",
   "metadata": {},
   "source": [
    "# NOTE:\n",
    "The where() function in NumPy returns an array of indices where a specified condition is true.It has two primary usages:\n",
    "            1)When called with a single argument, it returns the indices of all non-zero elements in the array.\n",
    "            2)When called with three arguments x, y, and z, it returns an array of the same shape as x where each  element is y where the corresponding element in x satisfies the condition, and z elsewhere.\n",
    "            ex for second point:\n",
    "                          see the code below example for second point\n",
    "            \n",
    "  \n",
    "SYNTAX:\n",
    "    1)to search for an ele and to get its index:                     np.where(arrayname==ele_ur_searching_for)\n",
    "    2)to search for an ele which satisfies a condition               np.where(condition using arrayname)\n",
    "            ex: if arr=[1,2,3,4] then to find even number.           np.where(arr%2==0)"
   ]
  },
  {
   "cell_type": "markdown",
   "id": "c83ce68f",
   "metadata": {},
   "source": [
    "# example fo second point"
   ]
  },
  {
   "cell_type": "code",
   "execution_count": 1,
   "id": "83fad87e",
   "metadata": {},
   "outputs": [
    {
     "name": "stdout",
     "output_type": "stream",
     "text": [
      "[1 0 3 0 5]\n"
     ]
    }
   ],
   "source": [
    "import numpy as np\n",
    "\n",
    "# create an array\n",
    "x = np.array([1, -2, 3, -4, 5])\n",
    "\n",
    "# use np.where to create a new array where negative values are replaced with 0\n",
    "y = np.where(x < 0, 0, x)\n",
    "\n",
    "print(y)\n",
    "#explanation is below"
   ]
  },
  {
   "cell_type": "markdown",
   "id": "e34d0992",
   "metadata": {},
   "source": [
    "# explanation for above code"
   ]
  },
  {
   "cell_type": "code",
   "execution_count": null,
   "id": "2a98d63f",
   "metadata": {},
   "outputs": [],
   "source": [
    "In this example, the np.where() function is used to create a new array y where all negative values in x are repla-\n",
    "ced with 0. The first argument to np.where() is the condition x < 0, which is true where x is negative.\n",
    "The second argument is the value to use where the condition is true, which is 0 in this case. The third argument \n",
    "is the value to use where the condition is false, which is x in this case.\n",
    "\n",
    "That is why output of the example code is:\n",
    "        [1 0 3 0 5] "
   ]
  },
  {
   "cell_type": "code",
   "execution_count": 14,
   "id": "6120c7b0",
   "metadata": {},
   "outputs": [
    {
     "name": "stdout",
     "output_type": "stream",
     "text": [
      "(array([1, 3]),)\n"
     ]
    }
   ],
   "source": [
    "import numpy as np\n",
    "a=np.array([1,2,3,4,5])\n",
    "print(np.where(a==2)) #syntax of where is where(condition on arr) means each ele is assigned to name of array and checks whether the condition is true on that element"
   ]
  },
  {
   "cell_type": "code",
   "execution_count": 15,
   "id": "3e2f0657",
   "metadata": {},
   "outputs": [
    {
     "name": "stdout",
     "output_type": "stream",
     "text": [
      "3\n",
      "(array([3]),)\n"
     ]
    }
   ],
   "source": [
    "#just a try in different way\n",
    "a=np.array([1,2,3,4,5])\n",
    "for i in a:\n",
    "    if i==3:\n",
    "        print(i)\n",
    "        print(np.where(a==4))#note where fuction syntax is we want to pass condition on the array not the i here"
   ]
  },
  {
   "cell_type": "markdown",
   "id": "1b4848ea",
   "metadata": {},
   "source": [
    "# should solve this tricky question using where"
   ]
  },
  {
   "cell_type": "code",
   "execution_count": 28,
   "id": "9ebb8cab",
   "metadata": {},
   "outputs": [
    {
     "name": "stdout",
     "output_type": "stream",
     "text": [
      "6\n"
     ]
    }
   ],
   "source": [
    "# printing the  no of even numbers in the array\n",
    "\"\"\"\n",
    "a=np.array([1,2,3,4,5])\n",
    "c=np.where(a%2==0)\n",
    "print(c)\n",
    "print(type(c))\n",
    "print(len(c))\n",
    "print(sum)\n",
    "\"\"\"\n",
    "#with out using where we can solve it \n",
    "a=np.array([1,2,3,4,5])\n",
    "sum=0\n",
    "for i in a:\n",
    "    if i%2==0:\n",
    "        sum=sum+i\n",
    "print(sum)\n",
    "    "
   ]
  },
  {
   "cell_type": "markdown",
   "id": "b6135426",
   "metadata": {},
   "source": [
    "# searchsorted() function "
   ]
  },
  {
   "cell_type": "raw",
   "id": "673ae5bf",
   "metadata": {},
   "source": [
    "searchsorted() function: is like if u pass a value or set of value to searchsorted() function  it returns u the index value or index values in such a way that provides best case for binary search"
   ]
  },
  {
   "cell_type": "code",
   "execution_count": 30,
   "id": "eeb86f74",
   "metadata": {},
   "outputs": [
    {
     "name": "stdout",
     "output_type": "stream",
     "text": [
      "3\n"
     ]
    }
   ],
   "source": [
    "a=np.array([1,3,4,9])\n",
    "print(np.searchsorted(a,7)) #see we know that in binary search the values will be in ascending order small values at left and big values at right so a 7 is bigger than 4 and smaller than 9  so gives us index 3"
   ]
  },
  {
   "cell_type": "code",
   "execution_count": 32,
   "id": "b15b5766",
   "metadata": {},
   "outputs": [
    {
     "name": "stdout",
     "output_type": "stream",
     "text": [
      "[3 1 3]\n"
     ]
    }
   ],
   "source": [
    "print(np.searchsorted(a,[5,2,7]))"
   ]
  },
  {
   "cell_type": "code",
   "execution_count": 33,
   "id": "0bff7c02",
   "metadata": {},
   "outputs": [],
   "source": [
    "# Search From the Right Side "
   ]
  },
  {
   "cell_type": "code",
   "execution_count": 40,
   "id": "0f0291bc",
   "metadata": {},
   "outputs": [
    {
     "name": "stdout",
     "output_type": "stream",
     "text": [
      "3\n",
      "2\n"
     ]
    }
   ],
   "source": [
    "a=np.array([1,3,4,9])\n",
    "print(np.searchsorted(a,4,side=\"right\"))\n",
    "print(np.searchsorted(a,4))"
   ]
  }
 ],
 "metadata": {
  "kernelspec": {
   "display_name": "Python 3 (ipykernel)",
   "language": "python",
   "name": "python3"
  },
  "language_info": {
   "codemirror_mode": {
    "name": "ipython",
    "version": 3
   },
   "file_extension": ".py",
   "mimetype": "text/x-python",
   "name": "python",
   "nbconvert_exporter": "python",
   "pygments_lexer": "ipython3",
   "version": "3.9.13"
  }
 },
 "nbformat": 4,
 "nbformat_minor": 5
}
