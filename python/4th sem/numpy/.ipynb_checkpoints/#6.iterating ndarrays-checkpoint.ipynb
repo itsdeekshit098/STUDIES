{
 "cells": [
  {
   "cell_type": "markdown",
   "id": "24d21cb9",
   "metadata": {},
   "source": [
    "# Array iterating "
   ]
  },
  {
   "cell_type": "markdown",
   "id": "3e93ef81",
   "metadata": {},
   "source": [
    "iterating a 1d array"
   ]
  },
  {
   "cell_type": "code",
   "execution_count": 2,
   "id": "1ae34cb3",
   "metadata": {},
   "outputs": [
    {
     "name": "stdout",
     "output_type": "stream",
     "text": [
      "1\n",
      "2\n",
      "3\n"
     ]
    }
   ],
   "source": [
    "import numpy as np\n",
    "a=np.array([1,2,3])\n",
    "for i in a:\n",
    "    print(i)"
   ]
  },
  {
   "cell_type": "markdown",
   "id": "3e8cefbf",
   "metadata": {},
   "source": [
    "iterating 2d array"
   ]
  },
  {
   "cell_type": "code",
   "execution_count": 4,
   "id": "b72c9f31",
   "metadata": {},
   "outputs": [
    {
     "name": "stdout",
     "output_type": "stream",
     "text": [
      "[1 2 3]\n",
      "[4 5 6]\n"
     ]
    }
   ],
   "source": [
    "b=np.array([[1,2,3],[4,5,6]])\n",
    "for i in b:    #what happens with this loop is that first [] are considered and the inside 1d arrays [1,2,3] and [4,5,6] are considered as elements of a so while iterating whole [1,2,3] and [4,5,6] are displayed as one\n",
    "    print(i)     \n",
    "    "
   ]
  },
  {
   "cell_type": "code",
   "execution_count": 6,
   "id": "0f0f8a60",
   "metadata": {},
   "outputs": [
    {
     "name": "stdout",
     "output_type": "stream",
     "text": [
      "1\n",
      "2\n",
      "3\n",
      "4\n",
      "5\n",
      "6\n"
     ]
    }
   ],
   "source": [
    "#iterating 2d array and displaying each element of 1d array inside the 2d array separately\n",
    "c=np.array([[1,2,3],[4,5,6]])\n",
    "for i in c:\n",
    "    for j in i:\n",
    "        print(j)"
   ]
  },
  {
   "cell_type": "markdown",
   "id": "fe955bfa",
   "metadata": {},
   "source": [
    "iterating 3d array"
   ]
  },
  {
   "cell_type": "code",
   "execution_count": 9,
   "id": "8deb8918",
   "metadata": {},
   "outputs": [
    {
     "name": "stdout",
     "output_type": "stream",
     "text": [
      "[[1 2 3]\n",
      " [4 5 6]]\n",
      "[[ 7  8  9]\n",
      " [10 11 12]]\n"
     ]
    }
   ],
   "source": [
    "d=np.array([[[1,2,3],[4,5,6]],[[7,8,9],[10,11,12]]])\n",
    "for i in d:\n",
    "    print(i)#the ele inside the first [] are considered as elements of d so whileiterating whole [[1 2 3][4 5 6]] and [[ 7  8  9] [10 11 12]] which are separed by , are printed\n"
   ]
  },
  {
   "cell_type": "code",
   "execution_count": 14,
   "id": "6b847dd5",
   "metadata": {},
   "outputs": [
    {
     "name": "stdout",
     "output_type": "stream",
     "text": [
      "1\n",
      "2\n",
      "3\n",
      "4\n",
      "5\n",
      "6\n",
      "7\n",
      "8\n",
      "9\n",
      "10\n",
      "11\n",
      "12\n",
      "1d arrays:\n",
      "[1 2 3]\n",
      "[4 5 6]\n",
      "[7 8 9]\n",
      "[10 11 12]\n"
     ]
    }
   ],
   "source": [
    "#printing each ele of 3d array individually by iteration\n",
    "e=np.array([[[1,2,3],[4,5,6]],[[7,8,9],[10,11,12]]])\n",
    "for i in e:\n",
    "    for j in i:\n",
    "        for k in j:\n",
    "            print(k)\n",
    "print(\"1d arrays:\")\n",
    "#PRINTING 1D ARRAYS USING ITERATION \n",
    "for i in e:\n",
    "    for j in i:\n",
    "        print(j)"
   ]
  },
  {
   "cell_type": "markdown",
   "id": "0775ca22",
   "metadata": {},
   "source": [
    "# nditer()   syntax: nditer(arrayname)\n",
    "as we see above for nd(means 1d or 2d or 3d or 5d..) we need to use n number of loop(means 3 for loops for 3d array,2 for loops for 2d array) to print each ele of the array individually .\n",
    "    so as it will be difficult to write n loop of higher dimension like for 100 dimension just for ex so there comes a method in numpy which makes this task easier the method is :\n",
    "                                                              nditer() whose full form is n dimensional iterator"
   ]
  },
  {
   "cell_type": "code",
   "execution_count": 18,
   "id": "c5fa54b6",
   "metadata": {},
   "outputs": [
    {
     "name": "stdout",
     "output_type": "stream",
     "text": [
      "1\n",
      "2\n",
      "3\n",
      "4\n",
      "5\n",
      "6\n",
      "7\n",
      "8\n",
      "9\n",
      "10\n",
      "11\n",
      "12\n"
     ]
    }
   ],
   "source": [
    "k=np.array([[[1,2,3],[4,5,6]],[[7,8,9],[10,11,12]]])\n",
    "for i in np.nditer(k):\n",
    "    print(i)"
   ]
  },
  {
   "cell_type": "markdown",
   "id": "bf1c014c",
   "metadata": {},
   "source": [
    "# Iterating Array With Different Data Types"
   ]
  },
  {
   "cell_type": "code",
   "execution_count": 27,
   "id": "f1c1c50c",
   "metadata": {},
   "outputs": [
    {
     "name": "stdout",
     "output_type": "stream",
     "text": [
      "b'1'\n",
      "b'2'\n",
      "b'3'\n",
      "b'4'\n",
      "b'5'\n",
      "b'6'\n"
     ]
    }
   ],
   "source": [
    "a=np.array([[1,2,3],[4,5,6]])\n",
    "for i in np.nditer(a,flags=[\"buffered\"],op_dtypes=['S']):\n",
    "    print(i)"
   ]
  },
  {
   "cell_type": "code",
   "execution_count": 31,
   "id": "522db768",
   "metadata": {},
   "outputs": [
    {
     "name": "stdout",
     "output_type": "stream",
     "text": [
      "1\n",
      "2\n",
      "3\n",
      "4\n",
      "5\n",
      "6\n"
     ]
    }
   ],
   "source": [
    "b=np.array([[\"1\",\"2\",\"3\"],[\"4\",\"5\",\"6\"]])\n",
    "for i in np.nditer(b,flags=[\"buffered\"],op_dtypes=[\"U\"]):\n",
    "    print(i)"
   ]
  },
  {
   "cell_type": "markdown",
   "id": "0edf9ce1",
   "metadata": {},
   "source": [
    "exp"
   ]
  },
  {
   "cell_type": "markdown",
   "id": "6bb467eb",
   "metadata": {},
   "source": [
    "This code will iterate over the elements of a and print each one on a separate line, as integers. The flags parameter with the value of [\"buffered\"] is used to enable efficient iteration over the array by creating a buffer for the iterator. This can improve performance for large arrays."
   ]
  },
  {
   "cell_type": "markdown",
   "id": "e5409f94",
   "metadata": {},
   "source": [
    "# iterating with different step size"
   ]
  },
  {
   "cell_type": "markdown",
   "id": "855c1a1e",
   "metadata": {},
   "source": [
    "for 1d array"
   ]
  },
  {
   "cell_type": "markdown",
   "id": "f6716289",
   "metadata": {},
   "source": [
    "1st method"
   ]
  },
  {
   "cell_type": "code",
   "execution_count": 35,
   "id": "55b77292",
   "metadata": {},
   "outputs": [
    {
     "name": "stdout",
     "output_type": "stream",
     "text": [
      "1\n",
      "3\n",
      "5\n"
     ]
    }
   ],
   "source": [
    "a=np.array([1,2,3,4,5,6])\n",
    "for i in a[::2]:\n",
    "    print(i)"
   ]
  },
  {
   "cell_type": "markdown",
   "id": "e51779c3",
   "metadata": {},
   "source": [
    "2nd method "
   ]
  },
  {
   "cell_type": "code",
   "execution_count": 37,
   "id": "739df044",
   "metadata": {},
   "outputs": [
    {
     "name": "stdout",
     "output_type": "stream",
     "text": [
      "1\n",
      "3\n",
      "5\n"
     ]
    }
   ],
   "source": [
    "a=np.array([1,2,3,4,5,6])\n",
    "for i in np.nditer(a[::2]):\n",
    "    print(i)"
   ]
  },
  {
   "cell_type": "markdown",
   "id": "3480f461",
   "metadata": {},
   "source": [
    "for 2d array:"
   ]
  },
  {
   "cell_type": "code",
   "execution_count": 40,
   "id": "997db7e8",
   "metadata": {},
   "outputs": [
    {
     "name": "stdout",
     "output_type": "stream",
     "text": [
      "[1 2 3]\n",
      "[7 8 9]\n",
      "[14 15 16]\n"
     ]
    }
   ],
   "source": [
    "b=np.array([[1,2,3],[4,5,6],[7,8,9],[10,11,12],[14,15,16],[17,18,19]])\n",
    "for i in b[::2]:\n",
    "    print(i)     #not the correct output we are expection"
   ]
  },
  {
   "cell_type": "code",
   "execution_count": 42,
   "id": "fb626c93",
   "metadata": {},
   "outputs": [
    {
     "name": "stdout",
     "output_type": "stream",
     "text": [
      "1\n",
      "2\n",
      "3\n",
      "7\n",
      "8\n",
      "9\n",
      "14\n",
      "15\n",
      "16\n"
     ]
    }
   ],
   "source": [
    "b=np.array([[1,2,3],[4,5,6],[7,8,9],[10,11,12],[14,15,16],[17,18,19]])\n",
    "for i in np.nditer(b[::2]):\n",
    "    print(i)\n",
    "#exp\n",
    "#see here also we are not getting the correct output bcz nditer just prints the ele of array separately so here [1,2,3] print as 1 2 3 but the indexing for whole 1 2 3 will be same so the output is as below so now in each 1d array we need to print ele with steop 2"
   ]
  },
  {
   "cell_type": "code",
   "execution_count": 49,
   "id": "edbac788",
   "metadata": {},
   "outputs": [
    {
     "name": "stdout",
     "output_type": "stream",
     "text": [
      "1\n",
      "3\n",
      "4\n",
      "6\n",
      "7\n",
      "9\n",
      "10\n",
      "12\n",
      "14\n",
      "16\n",
      "17\n",
      "19\n"
     ]
    }
   ],
   "source": [
    "b=np.array([[1,2,3],[4,5,6],[7,8,9],[10,11,12],[14,15,16],[17,18,19]])\n",
    "for i in np.nditer(b[:,::2]):\n",
    "    print(i)\n",
    "#now we got the correct answer\n"
   ]
  },
  {
   "cell_type": "markdown",
   "id": "06d34882",
   "metadata": {},
   "source": [
    "# ndenumerate()"
   ]
  },
  {
   "cell_type": "markdown",
   "id": "4dc94769",
   "metadata": {},
   "source": [
    "sometimes while iterating arrays we want to print the index of the element along with the ele so in that case using nditer() it would be not possible so using ndenumerate this task will become easier"
   ]
  },
  {
   "cell_type": "markdown",
   "id": "6e0b8b99",
   "metadata": {},
   "source": [
    "on 1d array"
   ]
  },
  {
   "cell_type": "code",
   "execution_count": 52,
   "id": "1b9c37f7",
   "metadata": {},
   "outputs": [
    {
     "name": "stdout",
     "output_type": "stream",
     "text": [
      "(0,) 1\n",
      "(1,) 2\n",
      "(2,) 3\n",
      "(3,) 4\n"
     ]
    }
   ],
   "source": [
    "a=np.array([1,2,3,4])\n",
    "for index,i in np.ndenumerate(a):\n",
    "    print(index,i)"
   ]
  },
  {
   "cell_type": "markdown",
   "id": "a2ac2cf3",
   "metadata": {},
   "source": [
    "on 2d array"
   ]
  },
  {
   "cell_type": "code",
   "execution_count": 54,
   "id": "295de0cb",
   "metadata": {},
   "outputs": [
    {
     "name": "stdout",
     "output_type": "stream",
     "text": [
      "(0, 0) 1\n",
      "(0, 1) 2\n",
      "(0, 2) 3\n",
      "(0, 3) 4\n",
      "(1, 0) 5\n",
      "(1, 1) 6\n",
      "(1, 2) 7\n",
      "(1, 3) 8\n"
     ]
    }
   ],
   "source": [
    "a=np.array([[1,2,3,4],[5,6,7,8]])\n",
    "for index,i in np.ndenumerate(a):\n",
    "    print(index,i)"
   ]
  },
  {
   "cell_type": "markdown",
   "id": "35cff9fd",
   "metadata": {},
   "source": [
    "on 3d array"
   ]
  },
  {
   "cell_type": "code",
   "execution_count": 56,
   "id": "e39eeb76",
   "metadata": {},
   "outputs": [
    {
     "name": "stdout",
     "output_type": "stream",
     "text": [
      "(0, 0, 0) 1\n",
      "(0, 0, 1) 2\n",
      "(0, 0, 2) 3\n",
      "(0, 0, 3) 4\n",
      "(0, 1, 0) 5\n",
      "(0, 1, 1) 6\n",
      "(0, 1, 2) 7\n",
      "(0, 1, 3) 8\n",
      "(1, 0, 0) 9\n",
      "(1, 0, 1) 10\n",
      "(1, 0, 2) 11\n",
      "(1, 0, 3) 12\n",
      "(1, 1, 0) 13\n",
      "(1, 1, 1) 15\n",
      "(1, 1, 2) 15\n",
      "(1, 1, 3) 16\n"
     ]
    }
   ],
   "source": [
    "a=np.array([[[1,2,3,4],[5,6,7,8]],[[9,10,11,12],[13,15,15,16]]])\n",
    "for index,i in np.ndenumerate(a):\n",
    "    print(index,i)"
   ]
  }
 ],
 "metadata": {
  "kernelspec": {
   "display_name": "Python 3 (ipykernel)",
   "language": "python",
   "name": "python3"
  },
  "language_info": {
   "codemirror_mode": {
    "name": "ipython",
    "version": 3
   },
   "file_extension": ".py",
   "mimetype": "text/x-python",
   "name": "python",
   "nbconvert_exporter": "python",
   "pygments_lexer": "ipython3",
   "version": "3.9.13"
  }
 },
 "nbformat": 4,
 "nbformat_minor": 5
}
