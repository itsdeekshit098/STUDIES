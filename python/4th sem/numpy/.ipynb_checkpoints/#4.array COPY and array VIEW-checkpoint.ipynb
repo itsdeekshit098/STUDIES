{
 "cells": [
  {
   "cell_type": "markdown",
   "id": "03e58314",
   "metadata": {},
   "source": [
    "\"\"\"\n",
    "final words(NOTE: READ THESE AFTER U GO THROUGH ALL BELOW LINES AND CODE)\n",
    "1)copy() funtion will create a copy of an array and stores in a var if specified.it owns the data means the data is its own once copies.\n",
    "2)view() function is like it just views the data it doesnt own the data.if the value in the original array changes then the values in the array created using view() also changes\n",
    "\"\"\""
   ]
  },
  {
   "cell_type": "markdown",
   "id": "0ae80394",
   "metadata": {},
   "source": [
    "checking whether values of arrays created using copy() and view()  changes if we change value of original array"
   ]
  },
  {
   "cell_type": "code",
   "execution_count": 19,
   "id": "f3d827d3",
   "metadata": {},
   "outputs": [
    {
     "name": "stdout",
     "output_type": "stream",
     "text": [
      "array before:\n",
      "[1 2 3 4]\n",
      "array after modification\n",
      "[1 2 3 4]\n",
      "[9 2 3 4]\n"
     ]
    }
   ],
   "source": [
    "import numpy as np\n",
    "x=np.array([1,2,3,4])\n",
    "print(\"array before:\")\n",
    "print(x)\n",
    "#using copy and view\n",
    "y=x.copy()\n",
    "z=x.view()\n",
    "x[0]=9\n",
    "print(\"array after modification\")\n",
    "print(y)#the values of y doesnt changes as y owns the array values it wont be displaying values array values of x\n",
    "print(z)#the values of z changes as z doesnt owns the array values it will be displaying the values of array x \n"
   ]
  },
  {
   "cell_type": "markdown",
   "id": "d2353697",
   "metadata": {},
   "source": [
    "checking in reverse manner of above checking whether original array values changes if we change in array created using copy() and view() function"
   ]
  },
  {
   "cell_type": "code",
   "execution_count": 27,
   "id": "5a442700",
   "metadata": {},
   "outputs": [
    {
     "name": "stdout",
     "output_type": "stream",
     "text": [
      "all arrays before any modifications\n",
      "x= [1 2 3 4]\n",
      "y= [1 2 3 4]\n",
      "z= [1 2 3 4]\n",
      "after modification in y which is array created using copy() function\n",
      "x= [1 2 3 4]\n",
      "y= [9 2 3 4]\n",
      "z= [1 2 3 4]\n",
      "after modification in z which is array created using view function\n",
      "x= [1 8 3 4]\n",
      "y= [9 2 3 4]\n",
      "z= [1 8 3 4]\n"
     ]
    }
   ],
   "source": [
    "x=np.array([1,2,3,4])\n",
    "y=x.copy()\n",
    "z=x.view()\n",
    "print(\"all arrays before any modifications\")\n",
    "print(\"x=\",x)\n",
    "print(\"y=\",y)\n",
    "print(\"z=\",z)\n",
    "y[0]=9\n",
    "print(\"after modification in y which is array created using copy() function\")\n",
    "print(\"x=\",x)\n",
    "print(\"y=\",y)\n",
    "print(\"z=\",z)\n",
    "z[1]=8\n",
    "print(\"after modification in z which is array created using view function\")\n",
    "print(\"x=\",x)\n",
    "print(\"y=\",y)\n",
    "print(\"z=\",z)"
   ]
  }
 ],
 "metadata": {
  "kernelspec": {
   "display_name": "Python 3 (ipykernel)",
   "language": "python",
   "name": "python3"
  },
  "language_info": {
   "codemirror_mode": {
    "name": "ipython",
    "version": 3
   },
   "file_extension": ".py",
   "mimetype": "text/x-python",
   "name": "python",
   "nbconvert_exporter": "python",
   "pygments_lexer": "ipython3",
   "version": "3.9.13"
  }
 },
 "nbformat": 4,
 "nbformat_minor": 5
}
