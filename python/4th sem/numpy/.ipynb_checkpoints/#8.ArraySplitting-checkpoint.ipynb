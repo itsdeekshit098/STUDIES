{
 "cells": [
  {
   "cell_type": "markdown",
   "id": "614a5f7d",
   "metadata": {},
   "source": [
    "# splitting 1dimensional arrays"
   ]
  },
  {
   "cell_type": "code",
   "execution_count": 3,
   "id": "aad56a87",
   "metadata": {},
   "outputs": [
    {
     "name": "stdout",
     "output_type": "stream",
     "text": [
      "[array([1, 2]), array([3, 4]), array([5, 6])]\n"
     ]
    }
   ],
   "source": [
    "import numpy as np\n",
    "a=np.array([1,2,3,4,5,6])\n",
    "print(np.array_split(a,3))"
   ]
  },
  {
   "cell_type": "markdown",
   "id": "acc60035",
   "metadata": {},
   "source": [
    "what if there are insufficient no of elements in the array to split equally"
   ]
  },
  {
   "cell_type": "code",
   "execution_count": 5,
   "id": "0e57a3d4",
   "metadata": {},
   "outputs": [
    {
     "name": "stdout",
     "output_type": "stream",
     "text": [
      "[array([1, 2]), array([3]), array([4])]\n"
     ]
    }
   ],
   "source": [
    "#let us assume a array with 4 ele and to split into to arrays\n",
    "b=np.array([1,2,3,4])\n",
    "print(np.array_split(b,3))#if there are insufficient no of elements then the array_split method will split the elements in such a way to get the desired no of arrays as output"
   ]
  },
  {
   "cell_type": "markdown",
   "id": "bd6d33c5",
   "metadata": {},
   "source": [
    "# splitting 2 dimensional arrays"
   ]
  },
  {
   "cell_type": "code",
   "execution_count": 29,
   "id": "86f3246c",
   "metadata": {},
   "outputs": [
    {
     "name": "stdout",
     "output_type": "stream",
     "text": [
      "[array([[1, 2, 3],\n",
      "       [4, 5, 6]]), array([[ 7,  8,  9],\n",
      "       [10, 11, 12]]), array([[13, 14, 15],\n",
      "       [16, 17, 18]])]\n"
     ]
    }
   ],
   "source": [
    "c=np.array([[1,2,3],[4,5,6],[7,8,9],[10,11,12],[13,14,15],[16,17,18]])\n",
    "print(np.array_split(c,3))"
   ]
  },
  {
   "cell_type": "markdown",
   "id": "b7f8ac57",
   "metadata": {},
   "source": [
    "if there are insufficient no of 1d arrays to split into given no of array"
   ]
  },
  {
   "cell_type": "code",
   "execution_count": 28,
   "id": "3ad902a0",
   "metadata": {},
   "outputs": [
    {
     "name": "stdout",
     "output_type": "stream",
     "text": [
      "[array([[1, 2, 3],\n",
      "       [4, 5, 6],\n",
      "       [7, 8, 9]]), array([[10, 11, 12],\n",
      "       [13, 14, 15]]), array([[16, 17, 18],\n",
      "       [19, 20, 21]])]\n"
     ]
    }
   ],
   "source": [
    "c=np.array([[1,2,3],[4,5,6],[7,8,9],[10,11,12],[13,14,15],[16,17,18],[19,20,21]])\n",
    "print(np.array_split(c,3))"
   ]
  },
  {
   "cell_type": "markdown",
   "id": "495677b4",
   "metadata": {},
   "source": [
    "we can even split the elements along the row(which means including one ele of each row of matrix(matrix in case of 2d array)"
   ]
  },
  {
   "cell_type": "code",
   "execution_count": 31,
   "id": "1e3e3d2d",
   "metadata": {},
   "outputs": [
    {
     "name": "stdout",
     "output_type": "stream",
     "text": [
      "[array([[ 1],\n",
      "       [ 4],\n",
      "       [ 7],\n",
      "       [10],\n",
      "       [13],\n",
      "       [16]]), array([[ 2],\n",
      "       [ 5],\n",
      "       [ 8],\n",
      "       [11],\n",
      "       [14],\n",
      "       [17]]), array([[ 3],\n",
      "       [ 6],\n",
      "       [ 9],\n",
      "       [12],\n",
      "       [15],\n",
      "       [18]])]\n"
     ]
    }
   ],
   "source": [
    "d=np.array([[1,2,3],[4,5,6],[7,8,9],[10,11,12],[13,14,15],[16,17,18]])\n",
    "k=np.array_split(d,3,axis=1)\n",
    "print(k)"
   ]
  },
  {
   "cell_type": "code",
   "execution_count": 32,
   "id": "8b02d6dd",
   "metadata": {},
   "outputs": [
    {
     "name": "stdout",
     "output_type": "stream",
     "text": [
      "[array([[ 1],\n",
      "       [ 4],\n",
      "       [ 7],\n",
      "       [10],\n",
      "       [13],\n",
      "       [16]]), array([[ 2],\n",
      "       [ 5],\n",
      "       [ 8],\n",
      "       [11],\n",
      "       [14],\n",
      "       [17]]), array([[ 3],\n",
      "       [ 6],\n",
      "       [ 9],\n",
      "       [12],\n",
      "       [15],\n",
      "       [18]])]\n"
     ]
    }
   ],
   "source": [
    "d=np.array([[1,2,3],[4,5,6],[7,8,9],[10,11,12],[13,14,15],[16,17,18]])\n",
    "k=np.array_split(d,3,axis=1)\n",
    "print(k)"
   ]
  },
  {
   "cell_type": "code",
   "execution_count": 37,
   "id": "e0f7db93",
   "metadata": {},
   "outputs": [
    {
     "name": "stdout",
     "output_type": "stream",
     "text": [
      "[array([[ 1],\n",
      "       [ 4],\n",
      "       [ 7],\n",
      "       [10],\n",
      "       [13],\n",
      "       [16]]), array([[ 2],\n",
      "       [ 5],\n",
      "       [ 8],\n",
      "       [11],\n",
      "       [14],\n",
      "       [17]]), array([[ 3],\n",
      "       [ 6],\n",
      "       [ 9],\n",
      "       [12],\n",
      "       [15],\n",
      "       [18]])]\n"
     ]
    }
   ],
   "source": [
    "#hsplit: to split the elements along row(along row means including element of rows)\n",
    "e=np.array([[1,2,3],[4,5,6],[7,8,9],[10,11,12],[13,14,15],[16,17,18]])\n",
    "k=np.hsplit(e,3)\n",
    "print(k)"
   ]
  },
  {
   "cell_type": "code",
   "execution_count": 38,
   "id": "9f8ab566",
   "metadata": {},
   "outputs": [
    {
     "name": "stdout",
     "output_type": "stream",
     "text": [
      "[array([[1, 2, 3],\n",
      "       [4, 5, 6]]), array([[ 7,  8,  9],\n",
      "       [10, 11, 12]]), array([[13, 14, 15],\n",
      "       [16, 17, 18]])]\n"
     ]
    }
   ],
   "source": [
    "#vsplit:means vertical splitting which means splitting the whole rows which seems like vertical split\n",
    "e=np.array([[1,2,3],[4,5,6],[7,8,9],[10,11,12],[13,14,15],[16,17,18]])\n",
    "k=np.vsplit(e,3)\n",
    "print(k)"
   ]
  },
  {
   "cell_type": "code",
   "execution_count": null,
   "id": "1b6295b9",
   "metadata": {},
   "outputs": [],
   "source": []
  }
 ],
 "metadata": {
  "kernelspec": {
   "display_name": "Python 3 (ipykernel)",
   "language": "python",
   "name": "python3"
  },
  "language_info": {
   "codemirror_mode": {
    "name": "ipython",
    "version": 3
   },
   "file_extension": ".py",
   "mimetype": "text/x-python",
   "name": "python",
   "nbconvert_exporter": "python",
   "pygments_lexer": "ipython3",
   "version": "3.9.13"
  }
 },
 "nbformat": 4,
 "nbformat_minor": 5
}
