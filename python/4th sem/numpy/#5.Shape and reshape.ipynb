{
 "cells": [
  {
   "cell_type": "code",
   "execution_count": 10,
   "id": "c723e5bc",
   "metadata": {},
   "outputs": [
    {
     "name": "stdout",
     "output_type": "stream",
     "text": [
      "(2, 3)\n",
      "(2, 2, 3)\n"
     ]
    }
   ],
   "source": [
    "import numpy as np\n",
    "a=np.array([[1,2,3],[4,5,6]])\n",
    "print(a.shape)\n",
    "b=np.array([[[1,2,3],[4,5,6]],[[7,8,9],[10,11,12]]])\n",
    "print(b.shape)"
   ]
  },
  {
   "cell_type": "markdown",
   "id": "0f4809db",
   "metadata": {},
   "source": [
    "# reshaping using reshape() function"
   ]
  },
  {
   "cell_type": "markdown",
   "id": "041f7402",
   "metadata": {},
   "source": [
    "converting any shape array to 1 dim array\n"
   ]
  },
  {
   "cell_type": "code",
   "execution_count": 19,
   "id": "299da0b2",
   "metadata": {},
   "outputs": [
    {
     "name": "stdout",
     "output_type": "stream",
     "text": [
      "2dim array\n",
      "(2, 3)\n",
      "[1 2 3 4 5 6]\n",
      "(6,)\n",
      "3dim array\n",
      "(2, 2, 3)\n",
      "[[[ 1  2  3]\n",
      "  [ 4  5  6]]\n",
      "\n",
      " [[ 7  8  9]\n",
      "  [10 11 12]]]\n"
     ]
    }
   ],
   "source": [
    "print(\"2dim array\")\n",
    "c=np.array([[1,2,3],[4,5,6]])\n",
    "print(c.shape)\n",
    "d=c.reshape(-1)\n",
    "print(d)\n",
    "print(d.shape)\n",
    "\n",
    "print(\"3dim array\")\n",
    "#converting 3 dim array into 1 dimensional array\n",
    "b=np.array([[[1,2,3],[4,5,6]],[[7,8,9],[10,11,12]]])\n",
    "print(b.shape)\n",
    "print(b)\n"
   ]
  },
  {
   "cell_type": "markdown",
   "id": "9d2bda49",
   "metadata": {},
   "source": [
    "converting 1dim to 2 dim and 3 dim"
   ]
  },
  {
   "cell_type": "code",
   "execution_count": 32,
   "id": "c95c1e36",
   "metadata": {},
   "outputs": [
    {
     "name": "stdout",
     "output_type": "stream",
     "text": [
      "(12,)\n",
      "[[ 1  2  3]\n",
      " [ 4  5  6]\n",
      " [ 7  8  9]\n",
      " [10 11 12]]\n",
      "(4, 3)\n",
      "[ 1  2  3  4  5  6  7  8  9 10 11 12]\n",
      "lshape= (2, 3, 2)\n",
      "[[[ 1  2]\n",
      "  [ 3  4]\n",
      "  [ 5  6]]\n",
      "\n",
      " [[ 7  8]\n",
      "  [ 9 10]\n",
      "  [11 12]]]\n"
     ]
    }
   ],
   "source": [
    "k=np.array([1,2,3,4,5,6,7,8,9,10,11,12])\n",
    "print(k.shape)\n",
    "\n",
    "        #converting 1dim to 2 dim\n",
    "j=k.reshape(4,3) #note the shape should be in such a way that all ele will be including or\n",
    "#in other words if multiplication of shape(here (4,3) so 4X3) should be equal to no of elements in the array\n",
    "print(j)\n",
    "print(j.shape)\n",
    "print(k)\n",
    "\n",
    "        #converting 1dim to 3dim\n",
    "l=k.reshape(2,3,2)\n",
    "print(\"lshape=\",l.shape)\n",
    "print(l)\n",
    "\n"
   ]
  },
  {
   "cell_type": "markdown",
   "id": "756a4c09",
   "metadata": {},
   "source": [
    "unknown dimension(python let us to make python or interpreter decide or finalize the one dimension )"
   ]
  },
  {
   "cell_type": "code",
   "execution_count": 36,
   "id": "52551891",
   "metadata": {},
   "outputs": [
    {
     "name": "stdout",
     "output_type": "stream",
     "text": [
      "[[[ 1  2]\n",
      "  [ 3  4]\n",
      "  [ 5  6]]\n",
      "\n",
      " [[ 7  8]\n",
      "  [ 9 10]\n",
      "  [11 12]]]\n"
     ]
    }
   ],
   "source": [
    "v=np.array([1,2,3,4,5,6,7,8,9,10,11,12])\n",
    "l=v.reshape(2,3,-1)#giving -1 to make python decide the last dimension\n",
    "print(l)"
   ]
  }
 ],
 "metadata": {
  "kernelspec": {
   "display_name": "Python 3 (ipykernel)",
   "language": "python",
   "name": "python3"
  },
  "language_info": {
   "codemirror_mode": {
    "name": "ipython",
    "version": 3
   },
   "file_extension": ".py",
   "mimetype": "text/x-python",
   "name": "python",
   "nbconvert_exporter": "python",
   "pygments_lexer": "ipython3",
   "version": "3.9.13"
  }
 },
 "nbformat": 4,
 "nbformat_minor": 5
}
