{
 "cells": [
  {
   "cell_type": "markdown",
   "id": "c4cb38aa",
   "metadata": {},
   "source": [
    "# joining arrays using concatenate operation"
   ]
  },
  {
   "cell_type": "markdown",
   "id": "04fb9432",
   "metadata": {},
   "source": [
    "concatenate on 1d arrays #BIGNOTE while concatenating u should us np.concatenate((a,b)) not np.concatenate(a,b)"
   ]
  },
  {
   "cell_type": "code",
   "execution_count": 6,
   "id": "70b5ba8f",
   "metadata": {},
   "outputs": [
    {
     "name": "stdout",
     "output_type": "stream",
     "text": [
      "[5 7 9]\n",
      "[1 2 3 4 5 6]\n"
     ]
    }
   ],
   "source": [
    "import numpy as np\n",
    "a=np.array([1,2,3])\n",
    "b=np.array([4,5,6])\n",
    "print(a+b)\n",
    "print(np.concatenate((a,b)))"
   ]
  },
  {
   "cell_type": "markdown",
   "id": "7d7d8fd3",
   "metadata": {},
   "source": [
    "concatenating 2d arrays"
   ]
  },
  {
   "cell_type": "code",
   "execution_count": 38,
   "id": "2c0e9584",
   "metadata": {},
   "outputs": [
    {
     "name": "stdout",
     "output_type": "stream",
     "text": [
      "[[ 1  2  3]\n",
      " [ 4  5  6]\n",
      " [ 7  8  9]\n",
      " [10 11 12]]\n"
     ]
    }
   ],
   "source": [
    "a=np.array([[1,2,3],[4,5,6]])\n",
    "b=np.array([[7,8,9],[10,11,12]])\n",
    "c=np.concatenate((a,b))\n",
    "print(c)"
   ]
  },
  {
   "cell_type": "markdown",
   "id": "d2971033",
   "metadata": {},
   "source": [
    "joining 2d arrays along rows(what happens here is the 1st rows of two matrices will be joined and 2nd rows of two matrices are also joined"
   ]
  },
  {
   "cell_type": "code",
   "execution_count": 45,
   "id": "2718802f",
   "metadata": {},
   "outputs": [
    {
     "name": "stdout",
     "output_type": "stream",
     "text": [
      "while passing axis=1 i.e., axis=True\n",
      "[[ 1  2  3  7  8  9]\n",
      " [ 4  5  6 10 11 12]]\n",
      "while passing axis=1 i.e., axis=False\n",
      "[[ 1  2  3]\n",
      " [ 4  5  6]\n",
      " [ 7  8  9]\n",
      " [10 11 12]]\n"
     ]
    }
   ],
   "source": [
    "a=np.array([[1,2,3],[4,5,6]])\n",
    "b=np.array([[7,8,9],[10,11,12]])\n",
    "c=np.concatenate((a,b),axis=1)\n",
    "d=np.concatenate((a,b),axis=0)\n",
    "print(\"while passing axis=1 i.e., axis=True\")\n",
    "print(c)\n",
    "print(\"while passing axis=1 i.e., axis=False\")\n",
    "print(d)"
   ]
  },
  {
   "cell_type": "markdown",
   "id": "b1104908",
   "metadata": {},
   "source": [
    "concatenating 3d arrays"
   ]
  },
  {
   "cell_type": "code",
   "execution_count": 46,
   "id": "0251dce9",
   "metadata": {},
   "outputs": [
    {
     "name": "stdout",
     "output_type": "stream",
     "text": [
      "[[[  1   2   3]\n",
      "  [  4   5   6]]\n",
      "\n",
      " [[  7   8   9]\n",
      "  [ 10  11  12]]\n",
      "\n",
      " [[111 222 333]\n",
      "  [444 555 666]]\n",
      "\n",
      " [[777 888 999]\n",
      "  [100 110 120]]]\n"
     ]
    }
   ],
   "source": [
    "a=np.array([[[1,2,3],[4,5,6]],[[7,8,9],[10,11,12]]])\n",
    "b=np.array([[[111,222,333],[444,555,666]],[[777,888,999],[100,110,120]]])\n",
    "print(np.concatenate((a,b)))"
   ]
  },
  {
   "cell_type": "code",
   "execution_count": 48,
   "id": "e42bb9b8",
   "metadata": {},
   "outputs": [
    {
     "name": "stdout",
     "output_type": "stream",
     "text": [
      "[[[  1   2   3]\n",
      "  [  4   5   6]\n",
      "  [111 222 333]\n",
      "  [444 555 666]]\n",
      "\n",
      " [[  7   8   9]\n",
      "  [ 10  11  12]\n",
      "  [777 888 999]\n",
      "  [100 110 120]]]\n"
     ]
    }
   ],
   "source": [
    "print(np.concatenate((a,b),axis=1))#here what happens is the 3d arrays are concatenaed along matrices the first matrices of two cubes are joined or concatenated and the second two matrices of two cubes are joined or concatenated"
   ]
  },
  {
   "cell_type": "markdown",
   "id": "16b2d559",
   "metadata": {},
   "source": [
    "some experimental stuff"
   ]
  },
  {
   "cell_type": "code",
   "execution_count": 34,
   "id": "9b1eaf9a",
   "metadata": {},
   "outputs": [
    {
     "name": "stdout",
     "output_type": "stream",
     "text": [
      "[1 2 3 7 8 9]\n",
      "[1 2 3 7 8 9]\n"
     ]
    }
   ],
   "source": [
    "from numpy import concatenate as c\n",
    "a=np.array([1,2,3])\n",
    "b=np.array([7,8,9])\n",
    "k=c((a,b))\n",
    "j=np.concatenate((a,b))\n",
    "print(k)\n",
    "print(j)"
   ]
  },
  {
   "cell_type": "markdown",
   "id": "707d4721",
   "metadata": {},
   "source": [
    "what if we try to concatenate ndarrays of different dimensions"
   ]
  },
  {
   "cell_type": "code",
   "execution_count": 37,
   "id": "beda909e",
   "metadata": {},
   "outputs": [
    {
     "ename": "ValueError",
     "evalue": "all the input arrays must have same number of dimensions, but the array at index 0 has 1 dimension(s) and the array at index 1 has 2 dimension(s)",
     "output_type": "error",
     "traceback": [
      "\u001b[0;31m---------------------------------------------------------------------------\u001b[0m",
      "\u001b[0;31mValueError\u001b[0m                                Traceback (most recent call last)",
      "\u001b[0;32m/var/folders/j2/7vzyj65535sdpxn_vd38sncm0000gn/T/ipykernel_1452/1290912955.py\u001b[0m in \u001b[0;36m<module>\u001b[0;34m\u001b[0m\n\u001b[1;32m      1\u001b[0m \u001b[0ma\u001b[0m\u001b[0;34m=\u001b[0m\u001b[0mnp\u001b[0m\u001b[0;34m.\u001b[0m\u001b[0marray\u001b[0m\u001b[0;34m(\u001b[0m\u001b[0;34m[\u001b[0m\u001b[0;36m1\u001b[0m\u001b[0;34m,\u001b[0m\u001b[0;36m2\u001b[0m\u001b[0;34m,\u001b[0m\u001b[0;36m3\u001b[0m\u001b[0;34m]\u001b[0m\u001b[0;34m)\u001b[0m\u001b[0;34m\u001b[0m\u001b[0;34m\u001b[0m\u001b[0m\n\u001b[1;32m      2\u001b[0m \u001b[0mb\u001b[0m\u001b[0;34m=\u001b[0m\u001b[0mnp\u001b[0m\u001b[0;34m.\u001b[0m\u001b[0marray\u001b[0m\u001b[0;34m(\u001b[0m\u001b[0;34m[\u001b[0m\u001b[0;34m[\u001b[0m\u001b[0;36m7\u001b[0m\u001b[0;34m,\u001b[0m\u001b[0;36m8\u001b[0m\u001b[0;34m,\u001b[0m\u001b[0;36m9\u001b[0m\u001b[0;34m]\u001b[0m\u001b[0;34m,\u001b[0m\u001b[0;34m[\u001b[0m\u001b[0;36m4\u001b[0m\u001b[0;34m,\u001b[0m\u001b[0;36m5\u001b[0m\u001b[0;34m,\u001b[0m\u001b[0;36m6\u001b[0m\u001b[0;34m]\u001b[0m\u001b[0;34m]\u001b[0m\u001b[0;34m)\u001b[0m\u001b[0;34m\u001b[0m\u001b[0;34m\u001b[0m\u001b[0m\n\u001b[0;32m----> 3\u001b[0;31m \u001b[0mc\u001b[0m\u001b[0;34m=\u001b[0m\u001b[0mnp\u001b[0m\u001b[0;34m.\u001b[0m\u001b[0mconcatenate\u001b[0m\u001b[0;34m(\u001b[0m\u001b[0;34m(\u001b[0m\u001b[0ma\u001b[0m\u001b[0;34m,\u001b[0m\u001b[0mb\u001b[0m\u001b[0;34m)\u001b[0m\u001b[0;34m)\u001b[0m\u001b[0;31m#the output will be like u cant add arrays of two different dimensions\u001b[0m\u001b[0;34m\u001b[0m\u001b[0;34m\u001b[0m\u001b[0m\n\u001b[0m",
      "\u001b[0;32m<__array_function__ internals>\u001b[0m in \u001b[0;36mconcatenate\u001b[0;34m(*args, **kwargs)\u001b[0m\n",
      "\u001b[0;31mValueError\u001b[0m: all the input arrays must have same number of dimensions, but the array at index 0 has 1 dimension(s) and the array at index 1 has 2 dimension(s)"
     ]
    }
   ],
   "source": [
    "a=np.array([1,2,3])\n",
    "b=np.array([[7,8,9],[4,5,6]])\n",
    "c=np.concatenate((a,b))#the output will be like u cant add arrays of two different dimensions"
   ]
  },
  {
   "cell_type": "code",
   "execution_count": null,
   "id": "55dd68c9",
   "metadata": {},
   "outputs": [],
   "source": [
    "NOTE :I LEFT THE TOPIC JOINING ARRAYS USING STACK TO AVOID CONFUSION"
   ]
  }
 ],
 "metadata": {
  "kernelspec": {
   "display_name": "Python 3 (ipykernel)",
   "language": "python",
   "name": "python3"
  },
  "language_info": {
   "codemirror_mode": {
    "name": "ipython",
    "version": 3
   },
   "file_extension": ".py",
   "mimetype": "text/x-python",
   "name": "python",
   "nbconvert_exporter": "python",
   "pygments_lexer": "ipython3",
   "version": "3.9.13"
  }
 },
 "nbformat": 4,
 "nbformat_minor": 5
}
