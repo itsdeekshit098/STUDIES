{
 "cells": [
  {
   "cell_type": "markdown",
   "id": "59fe91af",
   "metadata": {},
   "source": [
    "# sum of squares of first n postive numbers"
   ]
  },
  {
   "cell_type": "code",
   "execution_count": null,
   "id": "5c9d2424",
   "metadata": {},
   "outputs": [],
   "source": [
    "n=int(input())\n",
    "sum=0\n",
    "for i in range(1,n+1):\n",
    "    sum=sum+(i**2)\n",
    "print(sum)"
   ]
  },
  {
   "cell_type": "raw",
   "id": "3408f696",
   "metadata": {},
   "source": [
    "Week 4: Programming Assignment 2\n",
    "Due on 2023-02-23, 23:59 IST\n",
    "Write a program that takes a number `n` as input and prints the nth power of 2.\n",
    "\n",
    "Example:\n",
    "If n = 4, the program should output 16 (2^4 = 16)"
   ]
  },
  {
   "cell_type": "code",
   "execution_count": null,
   "id": "e7eafa11",
   "metadata": {},
   "outputs": [],
   "source": [
    "n=int(input())\n",
    "print(2**n,end=\"\")"
   ]
  },
  {
   "cell_type": "raw",
   "id": "893ad677",
   "metadata": {},
   "source": [
    "Write a program that takes a number `n` as input and prints a pyramid of numbers with `n` rows.\n",
    "\n",
    "Example:\n",
    "\n",
    "If n = 5, the program should output the following;\n",
    "    1\n",
    "   232\n",
    "  34543\n",
    " 4567654\n",
    "567898765"
   ]
  },
  {
   "cell_type": "code",
   "execution_count": null,
   "id": "7489c4ad",
   "metadata": {},
   "outputs": [],
   "source": [
    "n=int(input())\n",
    "for i in range(1,n+1):\n",
    "    for j in range(i):\n",
    "        print(i)"
   ]
  }
 ],
 "metadata": {
  "kernelspec": {
   "display_name": "Python 3 (ipykernel)",
   "language": "python",
   "name": "python3"
  },
  "language_info": {
   "codemirror_mode": {
    "name": "ipython",
    "version": 3
   },
   "file_extension": ".py",
   "mimetype": "text/x-python",
   "name": "python",
   "nbconvert_exporter": "python",
   "pygments_lexer": "ipython3",
   "version": "3.9.13"
  }
 },
 "nbformat": 4,
 "nbformat_minor": 5
}
