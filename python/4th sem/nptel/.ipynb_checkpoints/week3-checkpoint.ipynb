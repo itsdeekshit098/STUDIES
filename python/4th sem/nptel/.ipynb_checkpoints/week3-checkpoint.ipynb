{
 "cells": [
  {
   "cell_type": "markdown",
   "id": "47a5e34c",
   "metadata": {},
   "source": [
    "# printing * s"
   ]
  },
  {
   "cell_type": "code",
   "execution_count": null,
   "id": "f861fdf1",
   "metadata": {},
   "outputs": [],
   "source": [
    "N=int(input())\n",
    "for i in range(1,N+1):\n",
    "    for j in range(1,i+1):\n",
    "        print(\"*\",end=\" \")\n",
    "    print(\"\\n\")"
   ]
  },
  {
   "cell_type": "markdown",
   "id": "874e7b81",
   "metadata": {},
   "source": [
    "# FIBONACCI SEQUENCE"
   ]
  },
  {
   "cell_type": "code",
   "execution_count": null,
   "id": "f4789743",
   "metadata": {},
   "outputs": [],
   "source": [
    "n=int(input(\"enter the how many fibonaccie sequence numbers u want to print\"))\n",
    "ft=0\n",
    "st=1\n",
    "for i in range(n):\n",
    "    print(ft)\n",
    "    nt=ft+st\n",
    "    ft=st\n",
    "    st=nt"
   ]
  },
  {
   "cell_type": "markdown",
   "id": "99dfc407",
   "metadata": {},
   "source": [
    "# printing paralellogram\n"
   ]
  },
  {
   "cell_type": "code",
   "execution_count": 3,
   "id": "531ff09d",
   "metadata": {},
   "outputs": [
    {
     "name": "stdout",
     "output_type": "stream",
     "text": [
      "4\n",
      "5\n",
      "****\n",
      "****\n",
      "****\n",
      "****\n",
      "****\n"
     ]
    }
   ],
   "source": [
    "B=int(input())\n",
    "H=int(input())\n",
    "for i in range(1,H+1):\n",
    "    print(\"*\"*B)\n"
   ]
  }
 ],
 "metadata": {
  "kernelspec": {
   "display_name": "Python 3 (ipykernel)",
   "language": "python",
   "name": "python3"
  },
  "language_info": {
   "codemirror_mode": {
    "name": "ipython",
    "version": 3
   },
   "file_extension": ".py",
   "mimetype": "text/x-python",
   "name": "python",
   "nbconvert_exporter": "python",
   "pygments_lexer": "ipython3",
   "version": "3.9.13"
  }
 },
 "nbformat": 4,
 "nbformat_minor": 5
}
