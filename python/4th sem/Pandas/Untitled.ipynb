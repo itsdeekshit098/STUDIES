{
 "cells": [
  {
   "cell_type": "code",
   "execution_count": 8,
   "id": "c3cad1c4",
   "metadata": {},
   "outputs": [],
   "source": [
    "gg={\"room.no\":[1,2,3,4,5],\"tv\":[\"yes\",None,\"yes\",\"yes\",\"yes\"],\"washing.m\":[None,\"yes\",\"yes\",\"yes\",\"yes\"],\"bed\":[\"yes\",\"yes\",\"yes\",None,\"yes\"]}"
   ]
  },
  {
   "cell_type": "code",
   "execution_count": 9,
   "id": "820077f8",
   "metadata": {},
   "outputs": [],
   "source": [
    "import pandas as pd\n",
    "kk=pd.DataFrame(gg)\n",
    "\n"
   ]
  },
  {
   "cell_type": "code",
   "execution_count": 10,
   "id": "76acd6b5",
   "metadata": {},
   "outputs": [
    {
     "name": "stdout",
     "output_type": "stream",
     "text": [
      "   room.no   tv washing.m  bed\n",
      "2        3  yes       yes  yes\n",
      "4        5  yes       yes  yes\n"
     ]
    }
   ],
   "source": [
    "ii=kk.dropna()\n",
    "print(ii)"
   ]
  }
 ],
 "metadata": {
  "kernelspec": {
   "display_name": "Python 3 (ipykernel)",
   "language": "python",
   "name": "python3"
  },
  "language_info": {
   "codemirror_mode": {
    "name": "ipython",
    "version": 3
   },
   "file_extension": ".py",
   "mimetype": "text/x-python",
   "name": "python",
   "nbconvert_exporter": "python",
   "pygments_lexer": "ipython3",
   "version": "3.9.13"
  }
 },
 "nbformat": 4,
 "nbformat_minor": 5
}
