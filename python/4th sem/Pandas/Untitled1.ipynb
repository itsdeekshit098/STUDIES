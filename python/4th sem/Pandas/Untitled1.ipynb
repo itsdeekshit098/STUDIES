{
 "cells": [
  {
   "cell_type": "code",
   "execution_count": 4,
   "id": "b5383fd7",
   "metadata": {},
   "outputs": [
    {
     "name": "stdout",
     "output_type": "stream",
     "text": [
      "   color_blue  color_green  color_red\n",
      "0           0            0          1\n",
      "1           0            1          0\n",
      "2           1            0          0\n",
      "3           0            0          1\n",
      "4           0            0          1\n",
      "5           0            1          0\n",
      "6           0            1          0\n",
      "   color  color_blue  color_green  color_red\n",
      "0    red           0            0          1\n",
      "1  green           0            1          0\n",
      "2   blue           1            0          0\n",
      "3    red           0            0          1\n",
      "4    red           0            0          1\n",
      "5  green           0            1          0\n",
      "6  green           0            1          0\n"
     ]
    }
   ],
   "source": [
    "    import pandas as pd\n",
    "    # create a dataframe with a nominal variable\n",
    "\n",
    "    data = {\n",
    "        'color': ['red', 'green', 'blue', 'red', 'red', 'green', 'green']\n",
    "    }\n",
    "\n",
    "    df = pd.DataFrame(data)\n",
    "    # apply one hot encoding\n",
    "    one_hot= pd.get_dummies(df['color'], prefix='color')#get_dummies(col) prefix=\"color\" for the binary columns(blue,green color is added as prfix  )\n",
    "    print(one_hot)\n",
    "\n",
    "    # concatenate the one hot encoding with the original dataframe\n",
    "    #this below code is just to displau output in understandable way\n",
    "    df = pd.concat([df, one_hot], axis=1)\n",
    "\n",
    "    # display the result\n",
    "    print(df)\n",
    "\n"
   ]
  },
  {
   "cell_type": "code",
   "execution_count": 7,
   "id": "992b3bd2",
   "metadata": {},
   "outputs": [
    {
     "name": "stdout",
     "output_type": "stream",
     "text": [
      "   color_blue  color_green  color_red\n",
      "0           0            0          1\n",
      "1           0            1          0\n",
      "2           1            0          0\n",
      "3           0            0          1\n",
      "4           0            0          1\n",
      "5           0            1          0\n",
      "6           0            1          0\n"
     ]
    }
   ],
   "source": [
    "import pandas as pd\n",
    "\n",
    "data = {\n",
    "    'color': ['red', 'green', 'blue', 'red', 'red', 'green', 'green']\n",
    "}\n",
    "\n",
    "df = pd.DataFrame(data)\n",
    "encoded_df = pd.get_dummies(df['color'], prefix='color')\n",
    "print(encoded_df)"
   ]
  },
  {
   "cell_type": "code",
   "execution_count": 16,
   "id": "297880ef",
   "metadata": {},
   "outputs": [
    {
     "name": "stdout",
     "output_type": "stream",
     "text": [
      "College            0.50\n",
      "High School        0.25\n",
      "Graduate School    0.25\n",
      "Name: education, dtype: float64\n",
      "         education  education_freq_encoded\n",
      "0      High School                    0.25\n",
      "1          College                    0.50\n",
      "2  Graduate School                    0.25\n",
      "3          College                    0.50\n",
      "College            2\n",
      "High School        1\n",
      "Graduate School    1\n",
      "Name: education, dtype: int64\n",
      "         education  education_freq_encoded\n",
      "0      High School                       1\n",
      "1          College                       2\n",
      "2  Graduate School                       1\n",
      "3          College                       2\n"
     ]
    }
   ],
   "source": [
    "import pandas as pd\n",
    "\n",
    "# create a sample dataframe\n",
    "df = pd.DataFrame({'education': ['High School', 'College', 'Graduate School', 'College']})\n",
    "\n",
    "# calculate the frequency of each education level\n",
    "freq = df['education'].value_counts(normalize=True)#normalize is like get frequency and gives out in a manner where sum of  freq of all will be 1be \n",
    "print(freq)\n",
    "\n",
    "# map the frequency values to the 'education' column\n",
    "df['education_freq_encoded'] = df['education'].map(freq)\n",
    "\n",
    "print(df)\n",
    "\n",
    "#without normalize=True in value.counts()\n",
    "freq1 = df['education'].value_counts()#normalize is like get frequency and gives out in a manner where sum of  freq of all will be 1be \n",
    "print(freq1)\n",
    "# map the frequency values to the 'education' column\n",
    "df['education_freq_encoded'] = df['education'].map(freq1)\n",
    "\n",
    "print(df)"
   ]
  }
 ],
 "metadata": {
  "kernelspec": {
   "display_name": "Python 3 (ipykernel)",
   "language": "python",
   "name": "python3"
  },
  "language_info": {
   "codemirror_mode": {
    "name": "ipython",
    "version": 3
   },
   "file_extension": ".py",
   "mimetype": "text/x-python",
   "name": "python",
   "nbconvert_exporter": "python",
   "pygments_lexer": "ipython3",
   "version": "3.9.13"
  }
 },
 "nbformat": 4,
 "nbformat_minor": 5
}
