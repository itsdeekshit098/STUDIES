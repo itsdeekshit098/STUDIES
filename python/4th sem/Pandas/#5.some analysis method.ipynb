{
 "cells": [
  {
   "cell_type": "code",
   "execution_count": 77,
   "id": "5392c1bd",
   "metadata": {},
   "outputs": [
    {
     "name": "stdout",
     "output_type": "stream",
     "text": [
      "     Duration  Pulse  Maxpulse  Calories\n",
      "0          60    110       130     409.1\n",
      "1          60    117       145     479.0\n",
      "2          60    103       135     340.0\n",
      "3          45    109       175     282.4\n",
      "4          45    117       148     406.0\n",
      "5          60    102       127     300.0\n",
      "6          60    110       136     374.0\n",
      "7          45    104       134     253.3\n",
      "8          30    109       133     195.1\n",
      "9          60     98       124     269.0\n",
      "10         60    103       147     329.3\n",
      "11         60    100       120     250.7\n",
      "12         60    106       128     345.3\n",
      "13         60    104       132     379.3\n",
      "14         60     98       123     275.0\n",
      "15         60     98       120     215.2\n",
      "16         60    100       120     300.0\n",
      "17         45     90       112       NaN\n",
      "18         60    103       123     323.0\n",
      "19         45     97       125     243.0\n",
      "20         60    108       131     364.2\n",
      "21         45    100       119     282.0\n",
      "22         60    130       101     300.0\n",
      "23         45    105       132     246.0\n",
      "24         60    102       126     334.5\n",
      "25         60    100       120     250.0\n",
      "26         60     92       118     241.0\n",
      "27         60    103       132       NaN\n",
      "28         60    100       132     280.0\n",
      "29         60    102       129     380.3\n",
      "30         60     92       115     243.0\n",
      "31         45     90       112     180.1\n",
      "32         60    101       124     299.0\n",
      "33         60     93       113     223.0\n",
      "34         60    107       136     361.0\n",
      "35         60    114       140     415.0\n",
      "36         60    102       127     300.0\n",
      "37         60    100       120     300.0\n",
      "38         60    100       120     300.0\n",
      "39         45    104       129     266.0\n",
      "40         45     90       112     180.1\n",
      "41         60     98       126     286.0\n",
      "42         60    100       122     329.4\n",
      "43         60    111       138     400.0\n",
      "44         60    111       131     397.0\n",
      "45         60     99       119     273.0\n",
      "46         60    109       153     387.6\n",
      "47         45    111       136     300.0\n",
      "48         45    108       129     298.0\n",
      "49         60    111       139     397.6\n",
      "50         60    107       136     380.2\n",
      "51         80    123       146     643.1\n",
      "52         60    106       130     263.0\n",
      "53         60    118       151     486.0\n",
      "54         30    136       175     238.0\n",
      "55         60    121       146     450.7\n",
      "56         60    118       121     413.0\n",
      "57         45    115       144     305.0\n",
      "58         20    153       172     226.4\n",
      "59         45    123       152     321.0\n",
      "60        210    108       160    1376.0\n",
      "61        160    110       137    1034.4\n",
      "62        160    109       135     853.0\n",
      "63         45    118       141     341.0\n",
      "64         20    110       130     131.4\n",
      "65        180     90       130     800.4\n",
      "66        150    105       135     873.4\n",
      "67        150    107       130     816.0\n",
      "68         20    106       136     110.4\n",
      "69        300    108       143    1500.2\n",
      "70        150     97       129    1115.0\n",
      "71         60    109       153     387.6\n",
      "72         90    100       127     700.0\n",
      "73        150     97       127     953.2\n",
      "74         45    114       146     304.0\n",
      "75         90     98       125     563.2\n",
      "76         45    105       134     251.0\n",
      "77         45    110       141     300.0\n",
      "78        120    100       130     500.4\n",
      "79        270    100       131    1729.0\n",
      "80         30    159       182     319.2\n",
      "81         45    149       169     344.0\n",
      "82         30    103       139     151.1\n",
      "83        120    100       130     500.0\n",
      "84         45    100       120     225.3\n",
      "85         30    151       170     300.0\n",
      "86         45    102       136     234.0\n",
      "87        120    100       157    1000.1\n",
      "88         45    129       103     242.0\n",
      "89         20     83       107      50.3\n",
      "90        180    101       127     600.1\n",
      "91         45    107       137       NaN\n",
      "92         30     90       107     105.3\n",
      "93         15     80       100      50.5\n",
      "94         20    150       171     127.4\n",
      "95         20    151       168     229.4\n",
      "96         30     95       128     128.2\n",
      "97         25    152       168     244.2\n",
      "98         30    109       131     188.2\n",
      "99         90     93       124     604.1\n",
      "100        20     95       112      77.7\n",
      "101        90     90       110     500.0\n",
      "102        90     90       100     500.0\n",
      "103        90     90       100     500.4\n",
      "104        30     92       108      92.7\n",
      "105        30     93       128     124.0\n",
      "106       180     90       120     800.3\n",
      "107        30     90       120      86.2\n",
      "108        90     90       120     500.3\n",
      "109       210    137       184    1860.4\n",
      "110        60    102       124     325.2\n",
      "111        45    107       124     275.0\n",
      "112        15    124       139     124.2\n",
      "113        45    100       120     225.3\n",
      "114        60    108       131     367.6\n",
      "115        60    108       151     351.7\n",
      "116        60    116       141     443.0\n",
      "117        60     97       122     277.4\n",
      "118        60    105       125       NaN\n",
      "119        60    103       124     332.7\n",
      "120        30    112       137     193.9\n",
      "121        45    100       120     100.7\n",
      "122        60    119       169     336.7\n",
      "123        60    107       127     344.9\n",
      "124        60    111       151     368.5\n",
      "125        60     98       122     271.0\n",
      "126        60     97       124     275.3\n",
      "127        60    109       127     382.0\n",
      "128        90     99       125     466.4\n",
      "129        60    114       151     384.0\n",
      "130        60    104       134     342.5\n",
      "131        60    107       138     357.5\n",
      "132        60    103       133     335.0\n",
      "133        60    106       132     327.5\n",
      "134        60    103       136     339.0\n",
      "135        20    136       156     189.0\n",
      "136        45    117       143     317.7\n",
      "137        45    115       137     318.0\n",
      "138        45    113       138     308.0\n",
      "139        20    141       162     222.4\n",
      "140        60    108       135     390.0\n",
      "141        60     97       127       NaN\n",
      "142        45    100       120     250.4\n",
      "143        45    122       149     335.4\n",
      "144        60    136       170     470.2\n",
      "145        45    106       126     270.8\n",
      "146        60    107       136     400.0\n",
      "147        60    112       146     361.9\n",
      "148        30    103       127     185.0\n",
      "149        60    110       150     409.4\n",
      "150        60    106       134     343.0\n",
      "151        60    109       129     353.2\n",
      "152        60    109       138     374.0\n",
      "153        30    150       167     275.8\n",
      "154        60    105       128     328.0\n",
      "155        60    111       151     368.5\n",
      "156        60     97       131     270.4\n",
      "157        60    100       120     270.4\n",
      "158        60    114       150     382.8\n",
      "159        30     80       120     240.9\n",
      "160        30     85       120     250.4\n",
      "161        45     90       130     260.4\n",
      "162        45     95       130     270.0\n",
      "163        45    100       140     280.9\n",
      "164        60    105       140     290.8\n",
      "165        60    110       145     300.0\n",
      "166        60    115       145     310.2\n",
      "167        75    120       150     320.4\n",
      "168        75    125       150     330.4\n"
     ]
    }
   ],
   "source": [
    "import pandas as pd\n",
    "df=pd.read_csv(\"data.csv\")\n",
    "pd.options.display.max_rows=169\n",
    "print(df)#NOTE:The element of the first row are considered as names for columns or labels for columns\n"
   ]
  },
  {
   "cell_type": "code",
   "execution_count": 8,
   "id": "6a9d2517",
   "metadata": {},
   "outputs": [
    {
     "name": "stdout",
     "output_type": "stream",
     "text": [
      "   Duration  Pulse  Maxpulse  Calories\n",
      "0        60    110       130     409.1\n",
      "1        60    117       145     479.0\n",
      "2        60    103       135     340.0\n",
      "3        45    109       175     282.4\n",
      "4        45    117       148     406.0\n"
     ]
    }
   ],
   "source": [
    "print(df.head())#displays top 5 elements"
   ]
  },
  {
   "cell_type": "code",
   "execution_count": 10,
   "id": "8e36d6f7",
   "metadata": {},
   "outputs": [
    {
     "name": "stdout",
     "output_type": "stream",
     "text": [
      "     Duration  Pulse  Maxpulse  Calories\n",
      "164        60    105       140     290.8\n",
      "165        60    110       145     300.0\n",
      "166        60    115       145     310.2\n",
      "167        75    120       150     320.4\n",
      "168        75    125       150     330.4\n"
     ]
    }
   ],
   "source": [
    "print(df.tail())"
   ]
  },
  {
   "cell_type": "code",
   "execution_count": 61,
   "id": "45bdc281",
   "metadata": {},
   "outputs": [
    {
     "name": "stdout",
     "output_type": "stream",
     "text": [
      "<class 'pandas.core.frame.DataFrame'>\n",
      "Int64Index: 164 entries, 0 to 168\n",
      "Data columns (total 4 columns):\n",
      " #   Column    Non-Null Count  Dtype  \n",
      "---  ------    --------------  -----  \n",
      " 0   Duration  164 non-null    int64  \n",
      " 1   Pulse     164 non-null    int64  \n",
      " 2   Maxpulse  164 non-null    int64  \n",
      " 3   Calories  164 non-null    float64\n",
      "dtypes: float64(1), int64(3)\n",
      "memory usage: 6.4 KB\n",
      "None\n"
     ]
    }
   ],
   "source": [
    "print(df.info())"
   ]
  },
  {
   "cell_type": "markdown",
   "id": "13984259",
   "metadata": {},
   "source": [
    "# changing index of the df created by a csv file"
   ]
  },
  {
   "cell_type": "code",
   "execution_count": 75,
   "id": "9e49137a",
   "metadata": {},
   "outputs": [
    {
     "name": "stdout",
     "output_type": "stream",
     "text": [
      "   c1    c2  c3    c4\n",
      "1  11   NaN  13  14.0\n",
      "2  21  22.0  23  24.0\n",
      "3  31  32.0  33   NaN\n",
      "4  41  42.0  43  44.0\n",
      "   c1    c2  c3    c4\n",
      "1  11   NaN  13  14.0\n",
      "2  21  22.0  23  24.0\n",
      "3  31  32.0  33   NaN\n",
      "4  41  42.0  43  44.0\n"
     ]
    }
   ],
   "source": [
    "import pandas as pd\n",
    "#df1=pd.read_csv(\"/Users/hansi/Desktop/hansi/wrwe/python/4th sem/Pandas/nullvaluesfile.csv\",index=[1,2,3,4]) \n",
    "#like in above line u cant change it throws u error saying unexpected argument to read_csv() so u need to do as below\n",
    "print(df1)\n",
    "#passing list of newindexes NOTE:MAKe sure length of list is equals to no of rows\n",
    "df1.index=[1,2,3,4]\n",
    "print(df1)"
   ]
  },
  {
   "cell_type": "code",
   "execution_count": 70,
   "id": "4e3026b4",
   "metadata": {},
   "outputs": [
    {
     "name": "stdout",
     "output_type": "stream",
     "text": [
      "   c1    c2  c3    c4\n",
      "0  11   NaN  13  14.0\n",
      "1  21  22.0  23  24.0\n",
      "2  31  32.0  33   NaN\n",
      "3  41  42.0  43  44.0\n"
     ]
    }
   ],
   "source": [
    "import pandas as pd\n",
    "df1=pd.read_csv(\"/Users/hansi/Desktop/hansi/wrwe/python/4th sem/Pandas/nullvaluesfile.csv\")\n",
    "print(df1)"
   ]
  },
  {
   "cell_type": "markdown",
   "id": "f2ef94f3",
   "metadata": {},
   "source": [
    "# removing rows with null values"
   ]
  },
  {
   "cell_type": "code",
   "execution_count": 25,
   "id": "3cfcf150",
   "metadata": {},
   "outputs": [
    {
     "name": "stdout",
     "output_type": "stream",
     "text": [
      "  Unnamed: 0  c1    c2  c3    c4\n",
      "0         r1  11   NaN  13  14.0\n",
      "1         r2  21  22.0  23  24.0\n",
      "2         r3  31  32.0  33   NaN\n",
      "3         r4  41  42.0  43  44.0 \n",
      "\n",
      "printing directly dropna()\n",
      "  Unnamed: 0  c1    c2  c3    c4\n",
      "1         r2  21  22.0  23  24.0\n",
      "3         r4  41  42.0  43  44.0 \n",
      "\n",
      "printing after assigning to new var\n",
      "  Unnamed: 0  c1    c2  c3    c4\n",
      "1         r2  21  22.0  23  24.0\n",
      "3         r4  41  42.0  43  44.0\n"
     ]
    }
   ],
   "source": [
    "df1.dropna()\n",
    "print(df1,\"\\n\")#see eventhough we dropped null values we are getting the whole data which means in this case df is immutable so we need to assign it to some other variable but while we print(df1.dropna()) the data is printed by deleting the data\n",
    "print(\"printing directly dropna()\")\n",
    "print(df1.dropna(),\"\\n\")\n",
    "print(\"printing after assigning to new var\")\n",
    "df3=df1.dropna()\n",
    "print(df3)"
   ]
  },
  {
   "cell_type": "markdown",
   "id": "d07367ee",
   "metadata": {},
   "source": [
    "# removing rows with null values from original data frame"
   ]
  },
  {
   "cell_type": "raw",
   "id": "9ce77027",
   "metadata": {},
   "source": [
    "in the above case eventhough we used dropna() the rows with null values arent deleted in the same df when we assigned it to other dataframe and displayed the df.\n",
    "so what if we want to delete the original dataframe then in that case the inplace keyword comes into picture"
   ]
  },
  {
   "cell_type": "code",
   "execution_count": 32,
   "id": "03c0fea7",
   "metadata": {},
   "outputs": [
    {
     "name": "stdout",
     "output_type": "stream",
     "text": [
      "  Unnamed: 0  c1    c2  c3    c4\n",
      "0         r1  11   NaN  13  14.0\n",
      "1         r2  21  22.0  23  24.0\n",
      "2         r3  31  32.0  33   NaN\n",
      "3         r4  41  42.0  43  44.0\n",
      "  Unnamed: 0  c1    c2  c3    c4\n",
      "1         r2  21  22.0  23  24.0\n",
      "3         r4  41  42.0  43  44.0\n"
     ]
    }
   ],
   "source": [
    "import pandas as pd\n",
    "df4=pd.read_csv(\"/Users/hansi/Desktop/hansi/wrwe/python/4th sem/Pandas/nullvaluesfile.csv\")\n",
    "print(df4)\n",
    "df4.dropna(inplace=True)\n",
    "print(df4)#see in the original file itself the rows with null values are deleted"
   ]
  },
  {
   "cell_type": "markdown",
   "id": "b4646771",
   "metadata": {},
   "source": [
    "# removing columns with null values"
   ]
  },
  {
   "cell_type": "code",
   "execution_count": 38,
   "id": "c6a85b9b",
   "metadata": {},
   "outputs": [
    {
     "name": "stdout",
     "output_type": "stream",
     "text": [
      "  Unnamed: 0  c1    c2  c3    c4\n",
      "0         r1  11   NaN  13  14.0\n",
      "1         r2  21  22.0  23  24.0\n",
      "2         r3  31  32.0  33   NaN\n",
      "3         r4  41  42.0  43  44.0\n",
      "removing columns with null values in the original data frame\n",
      "  Unnamed: 0  c1  c3\n",
      "0         r1  11  13\n",
      "1         r2  21  23\n",
      "2         r3  31  33\n",
      "3         r4  41  43\n"
     ]
    }
   ],
   "source": [
    "import pandas as pd\n",
    "df5=pd.read_csv(\"/Users/hansi/Desktop/hansi/wrwe/python/4th sem/Pandas/nullvaluesfile.csv\")\n",
    "print(df5)\n",
    "print(\"removing columns with null values in the original data frame\")\n",
    "df5.dropna(axis=1,inplace=True)\n",
    "print(df5)#removes c2 and c4 as there are null values in those clolums"
   ]
  },
  {
   "cell_type": "markdown",
   "id": "d162f8c7",
   "metadata": {},
   "source": [
    "# Replacing empty cells with some other values like someother integer,mean,mode,median"
   ]
  },
  {
   "cell_type": "markdown",
   "id": "8d52ce16",
   "metadata": {},
   "source": [
    "# replacing with some other integer"
   ]
  },
  {
   "cell_type": "code",
   "execution_count": 49,
   "id": "ba239acd",
   "metadata": {},
   "outputs": [
    {
     "name": "stdout",
     "output_type": "stream",
     "text": [
      "before filling\n",
      "  Unnamed: 0  c1    c2  c3    c4\n",
      "0         r1  11   NaN  13  14.0\n",
      "1         r2  21  22.0  23  24.0\n",
      "2         r3  31  32.0  33   NaN\n",
      "3         r4  41  42.0  43  44.0 \n",
      "\n",
      "after filling\n",
      "  Unnamed: 0  c1    c2  c3    c4\n",
      "0         r1  11  40.0  13  14.0\n",
      "1         r2  21  22.0  23  24.0\n",
      "2         r3  31  32.0  33  40.0\n",
      "3         r4  41  42.0  43  44.0\n"
     ]
    }
   ],
   "source": [
    "import pandas as pd\n",
    "df6=pd.read_csv(\"/Users/hansi/Desktop/hansi/wrwe/python/4th sem/Pandas/nullvaluesfile.csv\")\n",
    "print(\"before filling\")\n",
    "print(df6,\"\\n\")\n",
    "df6.fillna(40,inplace=True)#replacing the columns with null value by 40\n",
    "print(\"after filling\")\n",
    "print(df6)#see in (c2,r1) and (c4,r3) are replaced with value 40 "
   ]
  },
  {
   "cell_type": "markdown",
   "id": "7a6e9712",
   "metadata": {},
   "source": [
    "# replacing empty cells of a column with mean,mode,median of that columns\n"
   ]
  },
  {
   "cell_type": "code",
   "execution_count": 60,
   "id": "bb8ad134",
   "metadata": {},
   "outputs": [
    {
     "name": "stdout",
     "output_type": "stream",
     "text": [
      "before filling\n",
      "  Unnamed: 0  c1    c2  c3    c4\n",
      "0         r1  11   NaN  13  14.0\n",
      "1         r2  21  22.0  23  24.0\n",
      "2         r3  31  32.0  33   NaN\n",
      "3         r4  41  42.0  43  44.0\n",
      "  Unnamed: 0  c1    c2  c3    c4\n",
      "0         r1  11  32.0  13  14.0\n",
      "1         r2  21  22.0  23  24.0\n",
      "2         r3  31  32.0  33  32.0\n",
      "3         r4  41  42.0  43  44.0 \n",
      " or\n",
      "  Unnamed: 0  c1    c2  c3    c4\n",
      "0         r1  11  32.0  13  14.0\n",
      "1         r2  21  22.0  23  24.0\n",
      "2         r3  31  32.0  33  32.0\n",
      "3         r4  41  42.0  43  44.0\n"
     ]
    }
   ],
   "source": [
    "import pandas as pd\n",
    "df7=pd.read_csv(\"/Users/hansi/Desktop/hansi/wrwe/python/4th sem/Pandas/nullvaluesfile.csv\")\n",
    "print(\"before filling\")\n",
    "print(df7)\n",
    "x=df7[\"c2\"].mean()\n",
    "df7.fillna(x,inplace=True)\n",
    "print(df7,\"\\n\",\"or\")\n",
    "df7.fillna(df7[\"c2\"].mean(),inplace=True)\n",
    "print(df7)"
   ]
  },
  {
   "cell_type": "raw",
   "id": "62ea1401",
   "metadata": {},
   "source": [
    "as we see. above the both null values of c2 and c4 columns were replaced with mean of c3 only so what if we want to replace individual col with individual means then comes concept of repalcing null values of particular columns"
   ]
  },
  {
   "cell_type": "markdown",
   "id": "bd5636f7",
   "metadata": {},
   "source": [
    "# repalcing null values of particular columns\n"
   ]
  },
  {
   "cell_type": "code",
   "execution_count": 78,
   "id": "ef83d90e",
   "metadata": {},
   "outputs": [
    {
     "name": "stdout",
     "output_type": "stream",
     "text": [
      "before filling\n",
      "   c1    c2  c3    c4\n",
      "0  11   NaN  13  14.0\n",
      "1  21  22.0  23  24.0\n",
      "2  31  32.0  33   NaN\n",
      "3  41  42.0  43  44.0 \n",
      "\n",
      "after filling only c2 with mean of c2\n",
      "   c1    c2  c3    c4\n",
      "0  11  32.0  13  14.0\n",
      "1  21  22.0  23  24.0\n",
      "2  31  32.0  33   NaN\n",
      "3  41  42.0  43  44.0 \n",
      "\n",
      "#replacing the only c4 of df8 with mean of c3 of df8\n",
      "   c1    c2  c3         c4\n",
      "0  11  32.0  13  14.000000\n",
      "1  21  22.0  23  24.000000\n",
      "2  31  32.0  33  27.333333\n",
      "3  41  42.0  43  44.000000\n"
     ]
    }
   ],
   "source": [
    "import pandas as pd\n",
    "df8=pd.read_csv(\"/Users/hansi/Desktop/hansi/wrwe/python/4th sem/Pandas/nullvaluesfile.csv\")\n",
    "print(\"before filling\")\n",
    "print(df8,\"\\n\")\n",
    "print(\"after filling only c2 with mean of c2\")\n",
    "x=df8[\"c2\"].mean()\n",
    "#replacing the only c2 of df8 with mean of c2 of df8\n",
    "df8[\"c2\"].fillna(x,inplace=True)\n",
    "print(df8,\"\\n\")\n",
    "print(\"#replacing the only c4 of df8 with mean of c3 of df8\")\n",
    "y=df8[\"c4\"].mean()\n",
    "df8.fillna(y,inplace=True)\n",
    "print(df8)\n",
    "\n",
    "\n",
    "\n",
    "#similarly mode(),median() and all"
   ]
  },
  {
   "cell_type": "markdown",
   "id": "4211cbcd",
   "metadata": {},
   "source": [
    "# how to repalce col with empty cells in row s"
   ]
  },
  {
   "cell_type": "code",
   "execution_count": 93,
   "id": "56cdf0a9",
   "metadata": {},
   "outputs": [
    {
     "name": "stdout",
     "output_type": "stream",
     "text": [
      "   c1    c2  c3    c4\n",
      "a  11   NaN  13  14.0\n",
      "b  21  22.0  23  24.0\n",
      "c  31  32.0  33   NaN\n",
      "d  41  42.0  43  44.0\n",
      "12.666666666666666\n",
      "changing the null values in row \"a\" with mean of row \"a\"\n",
      "None\n"
     ]
    },
    {
     "name": "stderr",
     "output_type": "stream",
     "text": [
      "/var/folders/j2/7vzyj65535sdpxn_vd38sncm0000gn/T/ipykernel_17255/73073667.py:8: SettingWithCopyWarning: \n",
      "A value is trying to be set on a copy of a slice from a DataFrame\n",
      "\n",
      "See the caveats in the documentation: https://pandas.pydata.org/pandas-docs/stable/user_guide/indexing.html#returning-a-view-versus-a-copy\n",
      "  df9=df8.loc[\"a\"].fillna(50,inplace=True)\n"
     ]
    }
   ],
   "source": [
    "import pandas as pd\n",
    "df8=pd.read_csv(\"/Users/hansi/Desktop/hansi/wrwe/python/4th sem/Pandas/nullvaluesfile.csv\")\n",
    "df8.index=[\"a\",'b',\"c\",\"d\"]\n",
    "print(df8)\n",
    "print(df8.loc[\"a\"].mean())\n",
    "i=df8.loc[\"a\"].mean()\n",
    "print(\"changing the null values in row \\\"a\\\" with mean of row \\\"a\\\"\")\n",
    "df9=df8.loc[\"a\"].fillna(50,inplace=True)\n",
    "print(df9)"
   ]
  }
 ],
 "metadata": {
  "kernelspec": {
   "display_name": "Python 3 (ipykernel)",
   "language": "python",
   "name": "python3"
  },
  "language_info": {
   "codemirror_mode": {
    "name": "ipython",
    "version": 3
   },
   "file_extension": ".py",
   "mimetype": "text/x-python",
   "name": "python",
   "nbconvert_exporter": "python",
   "pygments_lexer": "ipython3",
   "version": "3.9.13"
  }
 },
 "nbformat": 4,
 "nbformat_minor": 5
}
