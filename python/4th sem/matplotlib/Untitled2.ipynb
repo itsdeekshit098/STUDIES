{
 "cells": [
  {
   "cell_type": "code",
   "execution_count": 11,
   "id": "e784a510",
   "metadata": {},
   "outputs": [
    {
     "name": "stdout",
     "output_type": "stream",
     "text": [
      "maximum_age 80\n",
      "minimum_age 1\n",
      "Bin of children [10, 1]\n",
      "Bin of teens [15, 18]\n",
      "Bin of adults [20]\n",
      "Bin of old [80]\n"
     ]
    }
   ],
   "source": [
    "def binning (data):\n",
    "    maximum_value = max(data)\n",
    "    minimum_value = min(data)\n",
    "    print(\"maximum_age\",maximum_value)\n",
    "    print(\"minimum_age\",minimum_value)\n",
    "    child=[]\n",
    "    teen=[]\n",
    "    adult=[]\n",
    "    old=[]\n",
    "    for i in data:\n",
    "        if i<12:\n",
    "            child.append(i)\n",
    "        elif i>12 and i<20:\n",
    "            teen.append(i)\n",
    "        elif i==20 and i<45:\n",
    "            adult.append(i)\n",
    "        elif i>45:\n",
    "            old.append(i)\n",
    "    print(\"Bin of children\",child)\n",
    "    print(\"Bin of teens\",teen)\n",
    "    print(\"Bin of adults\",adult)\n",
    "    print(\"Bin of old\",old)\n",
    "age=[10,1,20,15,18,80]\n",
    "binning(age)\n"
   ]
  },
  {
   "cell_type": "code",
   "execution_count": 18,
   "id": "f4a43bd9",
   "metadata": {},
   "outputs": [],
   "source": [
    "import pandas as pd\n",
    "import matplotlib as m\n",
    "k={\"usn\":[1,2,3,4,5],\"name\":[\"kk\",\"kk2\",\"kk3\",\"kk4\",\"kk5\"],\"marks\":[9,8,7,6,5]}\n",
    "df=pd.DataFrame(k)\n",
    "age=df[\"marks\"]\n",
    "p"
   ]
  }
 ],
 "metadata": {
  "kernelspec": {
   "display_name": "Python 3 (ipykernel)",
   "language": "python",
   "name": "python3"
  },
  "language_info": {
   "codemirror_mode": {
    "name": "ipython",
    "version": 3
   },
   "file_extension": ".py",
   "mimetype": "text/x-python",
   "name": "python",
   "nbconvert_exporter": "python",
   "pygments_lexer": "ipython3",
   "version": "3.9.13"
  }
 },
 "nbformat": 4,
 "nbformat_minor": 5
}
