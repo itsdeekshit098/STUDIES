{
 "cells": [
  {
   "cell_type": "code",
   "execution_count": 5,
   "id": "81ae7a97",
   "metadata": {},
   "outputs": [],
   "source": [
    "def binning (data):\n",
    "    maximum_value = max(data)\n",
    "    minimum_value = min(data)\n",
    "    print(\"maximum_age\"+maximum_value)\n",
    "    print(\"minimum_age\"+minimum_value)\n",
    "    child=[]\n",
    "    teen=[]\n",
    "    adult=[]\n",
    "    old=[]\n",
    "    for i in data:\n",
    "        if i<12:\n",
    "            child.append(i)\n",
    "        elif i>12 and i<20:\n",
    "            teen.append(i)\n",
    "        elif i==20 and i<45:\n",
    "            adult.append(i)\n",
    "        elif i>45:\n",
    "            old.append(i)\n",
    "        print(\"Bin of children\",child)\n",
    "        print(\"Bin of teens\",teen)\n",
    "        print(\"Bin of adults\",adult)\n",
    "        print(\"Bin of old\",old)\n",
    "    age[10,1,20,15,18,80]\n",
    "    binning(age)"
   ]
  }
 ],
 "metadata": {
  "kernelspec": {
   "display_name": "Python 3 (ipykernel)",
   "language": "python",
   "name": "python3"
  },
  "language_info": {
   "codemirror_mode": {
    "name": "ipython",
    "version": 3
   },
   "file_extension": ".py",
   "mimetype": "text/x-python",
   "name": "python",
   "nbconvert_exporter": "python",
   "pygments_lexer": "ipython3",
   "version": "3.9.13"
  }
 },
 "nbformat": 4,
 "nbformat_minor": 5
}
