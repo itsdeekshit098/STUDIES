{
 "cells": [
  {
   "cell_type": "raw",
   "id": "7f1fd009",
   "metadata": {},
   "source": [
    "1)eplain model with proper example also differentiate it with algorithm\n",
    "2)explain dataset,training dataset ,testing datasetalso use a real time scenario to illustarate the benifits the testing and training data\n",
    "3)how to check dimensions of a dataset and why dimensionality reduction(3d to 2d,2d to 1d)\n",
    "is involved\n",
    "4)expalain decision tree with proper example and implement with the help of decision tree classified\n",
    "feature selection:\n",
    "    it is like selecting the feauture which is relevant to the probelm we need to solve\n",
    "        ex:to filter attendence <75 and >75 then the attendence attributes are required remaining like age,marks are not requiresd\n",
    " features rrelavant or not ==>by co-relation   ==>there will be set of rules,set of scenarios\n",
    " \n",
    " in chi square we are importing this test will not be performing\n",
    " with the help of corelataion we will be knowing the significant feature\n",
    " greedy ==>\n",
    "        "
   ]
  },
  {
   "cell_type": "code",
   "execution_count": null,
   "id": "7296e533",
   "metadata": {},
   "outputs": [],
   "source": [
    "import pandas as pd\n"
   ]
  }
 ],
 "metadata": {
  "kernelspec": {
   "display_name": "Python 3 (ipykernel)",
   "language": "python",
   "name": "python3"
  },
  "language_info": {
   "codemirror_mode": {
    "name": "ipython",
    "version": 3
   },
   "file_extension": ".py",
   "mimetype": "text/x-python",
   "name": "python",
   "nbconvert_exporter": "python",
   "pygments_lexer": "ipython3",
   "version": "3.9.13"
  }
 },
 "nbformat": 4,
 "nbformat_minor": 5
}
