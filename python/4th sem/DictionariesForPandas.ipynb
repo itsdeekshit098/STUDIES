{
 "cells": [
  {
   "cell_type": "code",
   "execution_count": 4,
   "id": "0f1c926d",
   "metadata": {},
   "outputs": [
    {
     "name": "stdout",
     "output_type": "stream",
     "text": [
      "{'a': '1', 'b': [1, 2, 3, 4], 'c': {'c1': 'ac', 'c2': 'bc', 'c3': 'cc'}, 'd': [1, 2, 3, 4], 'e': {'f': {'11': 'one', '22': ['p', 'pp', 'ppp']}}}\n",
      "dict_keys(['a', 'b', 'c', 'd', 'e'])\n",
      "dict_values(['1', [1, 2, 3, 4], {'c1': 'ac', 'c2': 'bc', 'c3': 'cc'}, [1, 2, 3, 4], {'f': {'11': 'one', '22': ['p', 'pp', 'ppp']}}])\n",
      "[1, 2, 3, 4]\n",
      "1\n",
      "ac\n",
      "ppp\n",
      "{'a': '1', 'b': [1, 2, 3, 4], 'c': {'c1': 'ac', 'c2': 'bc', 'c3': 'cc'}, 'd': [1, 2, 3, 4], 'e': {'f': {'11': 'one', '22': ['p', 'pp', 'ppp']}}, 'new': [9, 8, 7, 6, 5]}\n",
      "{'a': '1', 'b': [1, 2, 3, 4], 'c': {'c1': 'ac', 'c2': 'bc', 'c3': 'cc'}, 'd': [1, 2, 3, 4], 'e': {'f': {'11': 'one', '22': ['p', 'pp', 'ppp']}}}\n",
      "{'a': '1', 'b': [1, 2, 3, 4], 'c': {'c1': 'ac', 'c2': 'bc', 'c3': 'cc'}, 'd': [1, 2, 3, 4]}\n",
      "{'a': '1', 'b': [1, 2, 3, 4], 'c': {'c1': 'ac', 'c2': 'bc', 'c3': 'cc'}}\n",
      "{}\n"
     ]
    },
    {
     "ename": "NameError",
     "evalue": "name 'Merge' is not defined",
     "output_type": "error",
     "traceback": [
      "\u001b[0;31m---------------------------------------------------------------------------\u001b[0m",
      "\u001b[0;31mNameError\u001b[0m                                 Traceback (most recent call last)",
      "\u001b[0;32m/var/folders/j2/7vzyj65535sdpxn_vd38sncm0000gn/T/ipykernel_2186/443179505.py\u001b[0m in \u001b[0;36m<module>\u001b[0;34m\u001b[0m\n\u001b[1;32m     26\u001b[0m \u001b[0md1\u001b[0m\u001b[0;34m=\u001b[0m\u001b[0;34m{\u001b[0m\u001b[0;34m\"a\"\u001b[0m\u001b[0;34m:\u001b[0m\u001b[0;34m[\u001b[0m\u001b[0;36m1\u001b[0m\u001b[0;34m,\u001b[0m\u001b[0;36m2\u001b[0m\u001b[0;34m,\u001b[0m\u001b[0;36m3\u001b[0m\u001b[0;34m]\u001b[0m\u001b[0;34m,\u001b[0m\u001b[0;34m\"b\"\u001b[0m\u001b[0;34m:\u001b[0m\u001b[0;34m[\u001b[0m\u001b[0;36m4\u001b[0m\u001b[0;34m,\u001b[0m\u001b[0;36m5\u001b[0m\u001b[0;34m,\u001b[0m\u001b[0;36m6\u001b[0m\u001b[0;34m]\u001b[0m\u001b[0;34m}\u001b[0m\u001b[0;34m\u001b[0m\u001b[0;34m\u001b[0m\u001b[0m\n\u001b[1;32m     27\u001b[0m \u001b[0md2\u001b[0m\u001b[0;34m=\u001b[0m\u001b[0;34m{\u001b[0m\u001b[0;34m\"c\"\u001b[0m\u001b[0;34m:\u001b[0m\u001b[0;34m[\u001b[0m\u001b[0;36m7\u001b[0m\u001b[0;34m,\u001b[0m\u001b[0;36m8\u001b[0m\u001b[0;34m,\u001b[0m\u001b[0;36m9\u001b[0m\u001b[0;34m]\u001b[0m\u001b[0;34m,\u001b[0m\u001b[0;34m\"d\"\u001b[0m\u001b[0;34m:\u001b[0m\u001b[0;34m[\u001b[0m\u001b[0;36m10\u001b[0m\u001b[0;34m,\u001b[0m\u001b[0;36m11\u001b[0m\u001b[0;34m,\u001b[0m\u001b[0;36m12\u001b[0m\u001b[0;34m]\u001b[0m\u001b[0;34m}\u001b[0m\u001b[0;34m\u001b[0m\u001b[0;34m\u001b[0m\u001b[0m\n\u001b[0;32m---> 28\u001b[0;31m \u001b[0md3\u001b[0m\u001b[0;34m=\u001b[0m\u001b[0mMerge\u001b[0m\u001b[0;34m(\u001b[0m\u001b[0md1\u001b[0m\u001b[0;34m,\u001b[0m\u001b[0md2\u001b[0m\u001b[0;34m)\u001b[0m\u001b[0;34m\u001b[0m\u001b[0;34m\u001b[0m\u001b[0m\n\u001b[0m\u001b[1;32m     29\u001b[0m \u001b[0mprint\u001b[0m\u001b[0;34m(\u001b[0m\u001b[0md3\u001b[0m\u001b[0;34m)\u001b[0m\u001b[0;34m\u001b[0m\u001b[0;34m\u001b[0m\u001b[0m\n",
      "\u001b[0;31mNameError\u001b[0m: name 'Merge' is not defined"
     ]
    }
   ],
   "source": [
    "a1={\"a\":\"1\",\"b\":[1,2,3,4],\"c\":{\"c1\":\"ac\",\"c2\":\"bc\",\"c3\":\"cc\"},\"d\":[1,2,3,4],\"e\":{\"f\":{\"11\":\"one\",\"22\":[\"p\",\"pp\",\"ppp\"]}}}\n",
    "print(a1)#prints keys with their values\n",
    "print(a1.keys())#prints the keys in the specific dictionary\n",
    "print(a1.values())#prints the values in the specific dictionary\n",
    "#printing specific index key and specific index value in a dictionary\n",
    "        #printing a key at specific index \n",
    "#print(a1[1]) its is impossible bcz In Python, dictionaries are unordered data structures, so it doesn't make sense to talk about an index of a key in a dictionary. If you want to access a specific key-value pair, you can do so using square bracket notation and the key as below:\n",
    "print(a1[\"b\"]) #displays the values of that particular key\n",
    "        #printing a specific index value\n",
    "print(a1[\"d\"][0])#in dict a1 goes to d  key then gooes to value at index 0\n",
    "print(a1[\"c\"][\"c1\"])\n",
    "print(a1[\"e\"][\"f\"][\"22\"][2])\n",
    "        #adding a value into the dictionary\n",
    "a1[\"new\"]=[9,8,7,6,5,]\n",
    "print(a1)\n",
    "    #deleting a key from dictionary\n",
    "del a1[\"new\"]\n",
    "print(a1)\n",
    "a1.pop(\"e\")\n",
    "print(a1)\n",
    "a1.popitem()\n",
    "print(a1)\n",
    "a1.clear()\n",
    "print(a1)\n",
    "        #merging two dictionaries\n",
    "d1={\"a\":[1,2,3],\"b\":[4,5,6]}\n",
    "d2={\"c\":[7,8,9],\"d\":[10,11,12]}\n",
    "d3=Merge(d1,d2)\n",
    "print(d3)"
   ]
  },
  {
   "cell_type": "code",
   "execution_count": 2,
   "id": "3b6cfb49",
   "metadata": {},
   "outputs": [
    {
     "name": "stdout",
     "output_type": "stream",
     "text": [
      "red\n",
      "['red', 'white', 'blue']\n"
     ]
    }
   ],
   "source": [
    "thisdict = {\n",
    "  \"brand\": \"Ford\",\n",
    "  \"electric\": False,\n",
    "  \"year\": 1964,\n",
    "  \"colors\": [\"red\", \"white\", \"blue\"]\n",
    "}\n",
    "#int the above code how to access only \"red\" it means how to access only a pariticular index value of a list(which is supposed to be a value of a key here)\n",
    "print(thisdict[\"colors\"][0]) \n",
    "thisdict[\"colors\"][0]\n",
    "print(thisdict['colors'])"
   ]
  },
  {
   "cell_type": "code",
   "execution_count": 13,
   "id": "a8f17a63",
   "metadata": {},
   "outputs": [
    {
     "data": {
      "text/plain": [
       "{'brand': 'Ford',\n",
       " 'electric': False,\n",
       " 'year': 1964,\n",
       " 'colors': ['red', 'white', 'blue'],\n",
       " 'chinni': ['hansi', 'naveen', 'venu', 'chenna']}"
      ]
     },
     "execution_count": 13,
     "metadata": {},
     "output_type": "execute_result"
    }
   ],
   "source": [
    "#adding an element into the dict \n",
    "thisdict = {\n",
    "  \"brand\": \"Ford\",\n",
    "  \"electric\": False,\n",
    "  \"year\": 1964,\n",
    "  \"colors\": [\"red\", \"white\", \"blue\"]\n",
    "}\n",
    "thisdict[\"chinni\"]=[\"hansi\",\"naveen\",\"venu\",\"chenna\"]\n",
    "thisdict"
   ]
  },
  {
   "cell_type": "code",
   "execution_count": 15,
   "id": "d77bc71a",
   "metadata": {},
   "outputs": [
    {
     "name": "stdout",
     "output_type": "stream",
     "text": [
      "dict_keys(['brand', 'electric', 'year', 'colors', 'chinni'])\n",
      "dict_values(['Ford', False, 1964, ['red', 'white', 'blue'], ['hansi', 'naveen', 'venu', 'chenna']])\n"
     ]
    }
   ],
   "source": [
    "\n",
    "print(thisdict.keys())\n",
    "print(thisdict.values())"
   ]
  },
  {
   "cell_type": "code",
   "execution_count": 16,
   "id": "8dbb5c9d",
   "metadata": {},
   "outputs": [
    {
     "name": "stdout",
     "output_type": "stream",
     "text": [
      "brand key exists\n"
     ]
    }
   ],
   "source": [
    "#checking whether the key exists or not\n",
    "thisdict = {\n",
    "  \"brand\": \"Ford\",\n",
    "  \"model\": \"Mustang\",\n",
    "  \"year\": 1964\n",
    "}\n",
    "#let us check whether the key \"brand exists or not\"\n",
    "#1 way\n",
    "if \"brand\" in thisdict: #PYTHON CHECKS FOR KEYS BY DEFAULT \n",
    "    print(\"brand key exists\")\n",
    "else:\n",
    "    print(\"brand key doesnt exist\")\n",
    "#2 way\n",
    "if \"model\" in thisdict.keys():\n",
    "    \n"
   ]
  },
  {
   "cell_type": "code",
   "execution_count": 28,
   "id": "6fd085d3",
   "metadata": {},
   "outputs": [
    {
     "name": "stdout",
     "output_type": "stream",
     "text": [
      "prensent\n",
      "p\n",
      "[1, 2, 3, 4]\n"
     ]
    }
   ],
   "source": [
    "#checking whether the VALUE exists or not\n",
    "thisdict = {\n",
    "  \"brand\": \"Ford\",\n",
    "  \"model\": \"Mustang\",\n",
    "  \"year\": 1964,\n",
    "  \"colors\": [\"red\", \"white\", \"blue\"],\n",
    "  \"a\":{\"k\":[1,2,3,4],\"t\":2}\n",
    "}\n",
    "#let us check whether value \"ford\" present or not\n",
    "if \"Ford\" in thisdict.values():\n",
    "    print(\"prensent\")\n",
    "else:\n",
    "    print(\"absent\")\n",
    "    \n",
    "#now let us check whether particular index value; of a value of a key present or not\n",
    "if \"red\" in thisdict['colors']:\n",
    "    print(\"p\")\n",
    "else:\n",
    "    print(\"a\")\n",
    "    \n",
    "#printing the value of a key which is a value of another of a dictionary\n",
    "print(thisdict[\"a\"][\"k\"])"
   ]
  },
  {
   "cell_type": "code",
   "execution_count": 50,
   "id": "1e271624",
   "metadata": {},
   "outputs": [
    {
     "name": "stdout",
     "output_type": "stream",
     "text": [
      "red\n",
      "white\n",
      "blue\n",
      "k\n",
      "t\n",
      "1\n",
      "2\n",
      "3\n",
      "4\n",
      "k\n",
      "t\n",
      "[1, 2, 3, 4]\n",
      "2\n"
     ]
    }
   ],
   "source": [
    "#looping through dictionaries\n",
    "thisdict = {\n",
    "  \"brand\": \"Ford\",\n",
    "  \"model\": \"Mustang\",\n",
    "  \"year\": 1964,\n",
    "  \"colors\": [\"red\", \"white\", \"blue\"],\n",
    "  \"a\":{\"k\":[1,2,3,4],\"t\":2}\n",
    "}\n",
    "for i in thisdict[\"colors\"]:\n",
    "    print(i)\n",
    "for i in thisdict[\"a\"]:#here thisdict[\"a\"] meanns values of a we know that by default only keys will be the values in this scenario so prints only \"k\" and \"t\"\n",
    "    print(i)\n",
    "for i in thisdict[\"a\"][\"k\"]:#here thisdict[\"a\"] again navigatinf to [\"k\"] so in values will go to k then will go to values of k\n",
    "    print(i)\n",
    "\"\"\"printing values of key of nested dictionary\"\"\"\n",
    "for i in thisdict[\"a\"]:#prints the keys of dictionary\n",
    "    print(i)\n",
    "for i in thisdict[\"a\"].values( ):#here thisdict[\"a\"] again navigatinf to [\"k\"] so in values will go to k then will go to values of k\n",
    "    print(i)"
   ]
  },
  {
   "cell_type": "code",
   "execution_count": 55,
   "id": "decc105b",
   "metadata": {},
   "outputs": [
    {
     "name": "stdout",
     "output_type": "stream",
     "text": [
      "<function system at 0x7fe9102e3dc0>\n"
     ]
    }
   ],
   "source": [
    "import platform\n",
    "k=platform.system\n",
    "print(k)"
   ]
  }
 ],
 "metadata": {
  "kernelspec": {
   "display_name": "Python 3 (ipykernel)",
   "language": "python",
   "name": "python3"
  },
  "language_info": {
   "codemirror_mode": {
    "name": "ipython",
    "version": 3
   },
   "file_extension": ".py",
   "mimetype": "text/x-python",
   "name": "python",
   "nbconvert_exporter": "python",
   "pygments_lexer": "ipython3",
   "version": "3.9.13"
  }
 },
 "nbformat": 4,
 "nbformat_minor": 5
}
