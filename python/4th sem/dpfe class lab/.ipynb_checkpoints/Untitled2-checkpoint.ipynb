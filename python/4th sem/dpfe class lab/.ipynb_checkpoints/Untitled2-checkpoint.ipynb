{
 "cells": [
  {
   "cell_type": "raw",
   "id": "68224b70",
   "metadata": {},
   "source": [
    "HISTOGRAM=GRAPHICAL REPRESENTATION OF DATA WHERE DATA POINTS ARE DIVIDED WITH EQUAL WIDTH AND NO DATA POINT IS REPEATING,WE WILLL CALCULATE MEAN,MODE\n",
    "BINNING=IT IS LIKE DIVIDING CONTINUOU S DATA TO SMALL GROUP\n",
    "DATA DISTRUBUTION=HOW BEAUTIFULLY WE GROOUP DATA=\n",
    "1)UNIFORN DN=\n",
    "2)SCREW DISTRUBUTION\n",
    "3)NORMAL DISTRUBUTION="
   ]
  },
  {
   "cell_type": "code",
   "execution_count": null,
   "id": "30351baf",
   "metadata": {},
   "outputs": [],
   "source": []
  },
  {
   "cell_type": "code",
   "execution_count": 11,
   "id": "e95b0e82",
   "metadata": {},
   "outputs": [
    {
     "name": "stdout",
     "output_type": "stream",
     "text": [
      "   a  b  c\n",
      "0  1  4  7\n",
      "1  2  5  8\n",
      "2  3  6  9\n"
     ]
    }
   ],
   "source": [
    "import numpy as np\n",
    "import pandas as pd\n",
    "a={\"a\":[1,2,3],\"b\":[4,5,6],\"c\":[7,8,9]}\n",
    "df=pd.DataFrame(a)\n",
    "print(df)"
   ]
  },
  {
   "cell_type": "code",
   "execution_count": 14,
   "id": "ada3f34f",
   "metadata": {},
   "outputs": [
    {
     "name": "stdout",
     "output_type": "stream",
     "text": [
      "   hansi\n",
      "0     10\n",
      "1     11\n",
      "2     12\n"
     ]
    }
   ],
   "source": [
    "df3=pd.DataFrame([10,11,12],columns=[\"hansi\"])\n",
    "print(df3)"
   ]
  },
  {
   "cell_type": "code",
   "execution_count": 15,
   "id": "d633b98f",
   "metadata": {},
   "outputs": [
    {
     "name": "stdout",
     "output_type": "stream",
     "text": [
      "Empty DataFrame\n",
      "Columns: []\n",
      "Index: []\n"
     ]
    }
   ],
   "source": [
    "df1=pd.DataFrame()\n",
    "print(df1)"
   ]
  },
  {
   "cell_type": "code",
   "execution_count": 35,
   "id": "175d3d5b",
   "metadata": {},
   "outputs": [
    {
     "name": "stdout",
     "output_type": "stream",
     "text": [
      "   a_x  b  c_x  a_y  c_y\n",
      "0    2  5    8    2    8\n",
      "1    3  6    9    3    9\n"
     ]
    }
   ],
   "source": [
    "import numpy as np\n",
    "import pandas as pd\n",
    "a={\"a\":[1,2,3],\"b\":[4,5,6],\"c\":[7,8,9]}\n",
    "b={\"a\":[1,2,3],\"b\":[0,5,6],\"c\":[7,8,9]}\n",
    "df1=pd.DataFrame(a)\n",
    "df2=pd.DataFrame(b)\n",
    "pd.concat([df1,df2])\n",
    "print(pd.merge(df1,df2,how='inner',on=\"b\"))"
   ]
  },
  {
   "cell_type": "code",
   "execution_count": 8,
   "id": "317bf4a0",
   "metadata": {},
   "outputs": [
    {
     "name": "stdout",
     "output_type": "stream",
     "text": [
      "   usn    name  marks\n",
      "0   21   hansi    NaN\n",
      "1   22  naveen   54.0\n",
      "2   23   veeru    NaN\n"
     ]
    }
   ],
   "source": [
    "import pandas as pd\n",
    "k1={\"usn\":[21,22,23],\"name\":[\"hansi\",\"naveen\",\"veeru\"]}\n",
    "k2={\"usn\":[29,22,27],\"marks\":[99,54,56]}\n",
    "df11=pd.DataFrame(k1)\n",
    "df22=pd.DataFrame(k2)\n",
    "print(pd.merge(df11,df22,how=\"left\"))"
   ]
  },
  {
   "cell_type": "code",
   "execution_count": 10,
   "id": "994b7a36",
   "metadata": {},
   "outputs": [
    {
     "name": "stdout",
     "output_type": "stream",
     "text": [
      "   usn    name  marks\n",
      "0   21   hansi     99\n",
      "1   22  naveen     54\n",
      "2   23   veeru     56\n"
     ]
    }
   ],
   "source": [
    "import pandas as pd\n",
    "k1={\"usn\":[21,22,23],\"name\":[\"hansi\",\"naveen\",\"veeru\"]}\n",
    "k2={\"usn\":[21,22,23],\"marks\":[99,54,56]}\n",
    "df11=pd.DataFrame(k1\n",
    "df22=pd.DataFrame(k2)\n",
    "print(pd.merge(df11,df22,how=\"left\"))"
   ]
  }
 ],
 "metadata": {
  "kernelspec": {
   "display_name": "Python 3 (ipykernel)",
   "language": "python",
   "name": "python3"
  },
  "language_info": {
   "codemirror_mode": {
    "name": "ipython",
    "version": 3
   },
   "file_extension": ".py",
   "mimetype": "text/x-python",
   "name": "python",
   "nbconvert_exporter": "python",
   "pygments_lexer": "ipython3",
   "version": "3.9.13"
  }
 },
 "nbformat": 4,
 "nbformat_minor": 5
}
