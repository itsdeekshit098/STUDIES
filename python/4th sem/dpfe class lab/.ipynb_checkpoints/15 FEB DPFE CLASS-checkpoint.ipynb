{
 "cells": [
  {
   "cell_type": "code",
   "execution_count": 1,
   "id": "d977d230",
   "metadata": {},
   "outputs": [],
   "source": [
    "#15 FEB 2003"
   ]
  },
  {
   "cell_type": "markdown",
   "id": "cb7dced9",
   "metadata": {},
   "source": [
    "it hepls to visualize as they will be in smaller "
   ]
  },
  {
   "cell_type": "markdown",
   "id": "0bf07564",
   "metadata": {},
   "source": [
    "create a continuous data points of animals and discrete them into five categories suchone category is not overfitting the features of other categories."
   ]
  },
  {
   "cell_type": "code",
   "execution_count": null,
   "id": "5bb2dbeb",
   "metadata": {},
   "outputs": [
    {
     "name": "stdout",
     "output_type": "stream",
     "text": [
      "legs are there or not ; enter True if yes\n"
     ]
    }
   ],
   "source": [
    "# criterial legs,wings,tail,flies,\n",
    "a={\"bird\":[True,False,True,True],\"animal\":[True,False,True,False]}\n",
    "feautures=[]\n",
    "print(\"legs are there or not ; enter True if yes\")\n",
    "feauture=bool(input())\n",
    "feautures.append(feauture)\n",
    "print(\"wings are there or not ; enter True if yes\")\n",
    "feauture=bool(input())\n",
    "feautures.append(feauture)\n",
    "print(\"tail are there or not ; enter True if yes\")\n",
    "feauture=bool(input())\n",
    "feautures.append(feauture)\n",
    "print(\"flies are there or not ; enter True if yes\")\n",
    "feauture=bool(input())\n",
    "feautures.append(feauture)\n",
    "print(features)"
   ]
  },
  {
   "cell_type": "code",
   "execution_count": 25,
   "id": "edd78498",
   "metadata": {},
   "outputs": [
    {
     "name": "stdout",
     "output_type": "stream",
     "text": [
      "dict_keys(['a', 'b'])\n",
      "a\n",
      "b\n"
     ]
    }
   ],
   "source": [
    "a={\"a\":[1,2,3],\"b\":[4,5,6]}\n",
    "print(a.keys())\n",
    "for i in a.keys():\n",
    "    print(i)"
   ]
  },
  {
   "cell_type": "code",
   "execution_count": 27,
   "id": "c0d05b45",
   "metadata": {},
   "outputs": [
    {
     "ename": "KeyError",
     "evalue": "'a'",
     "output_type": "error",
     "traceback": [
      "\u001b[0;31m---------------------------------------------------------------------------\u001b[0m",
      "\u001b[0;31mKeyError\u001b[0m                                  Traceback (most recent call last)",
      "\u001b[0;32m/var/folders/j2/7vzyj65535sdpxn_vd38sncm0000gn/T/ipykernel_10090/1915481962.py\u001b[0m in \u001b[0;36m<module>\u001b[0;34m\u001b[0m\n\u001b[1;32m      1\u001b[0m \u001b[0mk\u001b[0m\u001b[0;34m=\u001b[0m\u001b[0;34m[\u001b[0m\u001b[0;36m1\u001b[0m\u001b[0;34m,\u001b[0m\u001b[0;36m2\u001b[0m\u001b[0;34m,\u001b[0m\u001b[0;36m3\u001b[0m\u001b[0;34m]\u001b[0m\u001b[0;34m\u001b[0m\u001b[0;34m\u001b[0m\u001b[0m\n\u001b[0;32m----> 2\u001b[0;31m \u001b[0;32mif\u001b[0m \u001b[0ma\u001b[0m\u001b[0;34m[\u001b[0m\u001b[0;34m\"a\"\u001b[0m\u001b[0;34m]\u001b[0m\u001b[0;34m==\u001b[0m\u001b[0mk\u001b[0m\u001b[0;34m:\u001b[0m\u001b[0;34m\u001b[0m\u001b[0;34m\u001b[0m\u001b[0m\n\u001b[0m\u001b[1;32m      3\u001b[0m     \u001b[0mprint\u001b[0m\u001b[0;34m(\u001b[0m\u001b[0;34m)\u001b[0m\u001b[0;34m\u001b[0m\u001b[0;34m\u001b[0m\u001b[0m\n",
      "\u001b[0;31mKeyError\u001b[0m: 'a'"
     ]
    }
   ],
   "source": [
    "k=[1,2,3]\n",
    "if a[\"a\"]==k:\n",
    "    print()"
   ]
  },
  {
   "cell_type": "code",
   "execution_count": 30,
   "id": "c8cbc3f5",
   "metadata": {},
   "outputs": [
    {
     "name": "stdout",
     "output_type": "stream",
     "text": [
      "True\n"
     ]
    }
   ],
   "source": [
    "k=[]\n",
    "y=bool(input())\n",
    "k.append(y)"
   ]
  }
 ],
 "metadata": {
  "kernelspec": {
   "display_name": "Python 3 (ipykernel)",
   "language": "python",
   "name": "python3"
  },
  "language_info": {
   "codemirror_mode": {
    "name": "ipython",
    "version": 3
   },
   "file_extension": ".py",
   "mimetype": "text/x-python",
   "name": "python",
   "nbconvert_exporter": "python",
   "pygments_lexer": "ipython3",
   "version": "3.9.13"
  }
 },
 "nbformat": 4,
 "nbformat_minor": 5
}
